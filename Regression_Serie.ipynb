{
  "nbformat": 4,
  "nbformat_minor": 0,
  "metadata": {
    "colab": {
      "name": "Regression_Serie.ipynb",
      "provenance": [],
      "authorship_tag": "ABX9TyM64DXNGdfGPZXXZ3HHXGiI",
      "include_colab_link": true
    },
    "kernelspec": {
      "name": "python3",
      "display_name": "Python 3"
    },
    "language_info": {
      "name": "python"
    }
  },
  "cells": [
    {
      "cell_type": "markdown",
      "metadata": {
        "id": "view-in-github",
        "colab_type": "text"
      },
      "source": [
        "<a href=\"https://colab.research.google.com/github/ibonetc/ML_Doct_MSc/blob/main/Regression_Serie.ipynb\" target=\"_parent\"><img src=\"https://colab.research.google.com/assets/colab-badge.svg\" alt=\"Open In Colab\"/></a>"
      ]
    },
    {
      "cell_type": "markdown",
      "metadata": {
        "id": "bkDvX653XtZr"
      },
      "source": [
        "# Métodos básicos de regresión para predicción en series de tiempo\n",
        "## Solución usando un redes neuronales"
      ]
    },
    {
      "cell_type": "code",
      "source": [
        "import pandas as pd\n",
        "import matplotlib.pyplot as plt\n",
        "import numpy as np\n",
        "from math import sqrt\n",
        "from sklearn.metrics import mean_squared_error, r2_score, mean_absolute_error\n",
        "from tensorflow.keras.models import Sequential\n",
        "from tensorflow.keras.layers import Dense\n",
        "from tensorflow.keras.layers import Flatten\n",
        "from tensorflow.keras.layers import Dropout"
      ],
      "metadata": {
        "id": "Hc636nsxLJ4h"
      },
      "execution_count": 53,
      "outputs": []
    },
    {
      "cell_type": "code",
      "metadata": {
        "id": "PCgRMDpIbIjN"
      },
      "source": [
        "url='https://github.com/jbrownlee/Datasets/blob/d20fcb6402ae34e653d4513b00f39257bb37ed7f/monthly-car-sales.csv?raw=true'\n",
        "serie = pd.read_csv(url, header=0,index_col=0)"
      ],
      "execution_count": 35,
      "outputs": []
    },
    {
      "cell_type": "code",
      "metadata": {
        "colab": {
          "base_uri": "https://localhost:8080/",
          "height": 455
        },
        "id": "JTYfo639dA1I",
        "outputId": "6dbd9a3e-5f5d-47b8-e7fc-3e3280e9d388"
      },
      "source": [
        "serie"
      ],
      "execution_count": 36,
      "outputs": [
        {
          "output_type": "execute_result",
          "data": {
            "text/plain": [
              "         Sales\n",
              "Month         \n",
              "1960-01   6550\n",
              "1960-02   8728\n",
              "1960-03  12026\n",
              "1960-04  14395\n",
              "1960-05  14587\n",
              "...        ...\n",
              "1968-08  16722\n",
              "1968-09  14385\n",
              "1968-10  21342\n",
              "1968-11  17180\n",
              "1968-12  14577\n",
              "\n",
              "[108 rows x 1 columns]"
            ],
            "text/html": [
              "\n",
              "  <div id=\"df-779f8106-156f-4fd9-9ab5-f6a31e27f103\">\n",
              "    <div class=\"colab-df-container\">\n",
              "      <div>\n",
              "<style scoped>\n",
              "    .dataframe tbody tr th:only-of-type {\n",
              "        vertical-align: middle;\n",
              "    }\n",
              "\n",
              "    .dataframe tbody tr th {\n",
              "        vertical-align: top;\n",
              "    }\n",
              "\n",
              "    .dataframe thead th {\n",
              "        text-align: right;\n",
              "    }\n",
              "</style>\n",
              "<table border=\"1\" class=\"dataframe\">\n",
              "  <thead>\n",
              "    <tr style=\"text-align: right;\">\n",
              "      <th></th>\n",
              "      <th>Sales</th>\n",
              "    </tr>\n",
              "    <tr>\n",
              "      <th>Month</th>\n",
              "      <th></th>\n",
              "    </tr>\n",
              "  </thead>\n",
              "  <tbody>\n",
              "    <tr>\n",
              "      <th>1960-01</th>\n",
              "      <td>6550</td>\n",
              "    </tr>\n",
              "    <tr>\n",
              "      <th>1960-02</th>\n",
              "      <td>8728</td>\n",
              "    </tr>\n",
              "    <tr>\n",
              "      <th>1960-03</th>\n",
              "      <td>12026</td>\n",
              "    </tr>\n",
              "    <tr>\n",
              "      <th>1960-04</th>\n",
              "      <td>14395</td>\n",
              "    </tr>\n",
              "    <tr>\n",
              "      <th>1960-05</th>\n",
              "      <td>14587</td>\n",
              "    </tr>\n",
              "    <tr>\n",
              "      <th>...</th>\n",
              "      <td>...</td>\n",
              "    </tr>\n",
              "    <tr>\n",
              "      <th>1968-08</th>\n",
              "      <td>16722</td>\n",
              "    </tr>\n",
              "    <tr>\n",
              "      <th>1968-09</th>\n",
              "      <td>14385</td>\n",
              "    </tr>\n",
              "    <tr>\n",
              "      <th>1968-10</th>\n",
              "      <td>21342</td>\n",
              "    </tr>\n",
              "    <tr>\n",
              "      <th>1968-11</th>\n",
              "      <td>17180</td>\n",
              "    </tr>\n",
              "    <tr>\n",
              "      <th>1968-12</th>\n",
              "      <td>14577</td>\n",
              "    </tr>\n",
              "  </tbody>\n",
              "</table>\n",
              "<p>108 rows × 1 columns</p>\n",
              "</div>\n",
              "      <button class=\"colab-df-convert\" onclick=\"convertToInteractive('df-779f8106-156f-4fd9-9ab5-f6a31e27f103')\"\n",
              "              title=\"Convert this dataframe to an interactive table.\"\n",
              "              style=\"display:none;\">\n",
              "        \n",
              "  <svg xmlns=\"http://www.w3.org/2000/svg\" height=\"24px\"viewBox=\"0 0 24 24\"\n",
              "       width=\"24px\">\n",
              "    <path d=\"M0 0h24v24H0V0z\" fill=\"none\"/>\n",
              "    <path d=\"M18.56 5.44l.94 2.06.94-2.06 2.06-.94-2.06-.94-.94-2.06-.94 2.06-2.06.94zm-11 1L8.5 8.5l.94-2.06 2.06-.94-2.06-.94L8.5 2.5l-.94 2.06-2.06.94zm10 10l.94 2.06.94-2.06 2.06-.94-2.06-.94-.94-2.06-.94 2.06-2.06.94z\"/><path d=\"M17.41 7.96l-1.37-1.37c-.4-.4-.92-.59-1.43-.59-.52 0-1.04.2-1.43.59L10.3 9.45l-7.72 7.72c-.78.78-.78 2.05 0 2.83L4 21.41c.39.39.9.59 1.41.59.51 0 1.02-.2 1.41-.59l7.78-7.78 2.81-2.81c.8-.78.8-2.07 0-2.86zM5.41 20L4 18.59l7.72-7.72 1.47 1.35L5.41 20z\"/>\n",
              "  </svg>\n",
              "      </button>\n",
              "      \n",
              "  <style>\n",
              "    .colab-df-container {\n",
              "      display:flex;\n",
              "      flex-wrap:wrap;\n",
              "      gap: 12px;\n",
              "    }\n",
              "\n",
              "    .colab-df-convert {\n",
              "      background-color: #E8F0FE;\n",
              "      border: none;\n",
              "      border-radius: 50%;\n",
              "      cursor: pointer;\n",
              "      display: none;\n",
              "      fill: #1967D2;\n",
              "      height: 32px;\n",
              "      padding: 0 0 0 0;\n",
              "      width: 32px;\n",
              "    }\n",
              "\n",
              "    .colab-df-convert:hover {\n",
              "      background-color: #E2EBFA;\n",
              "      box-shadow: 0px 1px 2px rgba(60, 64, 67, 0.3), 0px 1px 3px 1px rgba(60, 64, 67, 0.15);\n",
              "      fill: #174EA6;\n",
              "    }\n",
              "\n",
              "    [theme=dark] .colab-df-convert {\n",
              "      background-color: #3B4455;\n",
              "      fill: #D2E3FC;\n",
              "    }\n",
              "\n",
              "    [theme=dark] .colab-df-convert:hover {\n",
              "      background-color: #434B5C;\n",
              "      box-shadow: 0px 1px 3px 1px rgba(0, 0, 0, 0.15);\n",
              "      filter: drop-shadow(0px 1px 2px rgba(0, 0, 0, 0.3));\n",
              "      fill: #FFFFFF;\n",
              "    }\n",
              "  </style>\n",
              "\n",
              "      <script>\n",
              "        const buttonEl =\n",
              "          document.querySelector('#df-779f8106-156f-4fd9-9ab5-f6a31e27f103 button.colab-df-convert');\n",
              "        buttonEl.style.display =\n",
              "          google.colab.kernel.accessAllowed ? 'block' : 'none';\n",
              "\n",
              "        async function convertToInteractive(key) {\n",
              "          const element = document.querySelector('#df-779f8106-156f-4fd9-9ab5-f6a31e27f103');\n",
              "          const dataTable =\n",
              "            await google.colab.kernel.invokeFunction('convertToInteractive',\n",
              "                                                     [key], {});\n",
              "          if (!dataTable) return;\n",
              "\n",
              "          const docLinkHtml = 'Like what you see? Visit the ' +\n",
              "            '<a target=\"_blank\" href=https://colab.research.google.com/notebooks/data_table.ipynb>data table notebook</a>'\n",
              "            + ' to learn more about interactive tables.';\n",
              "          element.innerHTML = '';\n",
              "          dataTable['output_type'] = 'display_data';\n",
              "          await google.colab.output.renderOutput(dataTable, element);\n",
              "          const docLink = document.createElement('div');\n",
              "          docLink.innerHTML = docLinkHtml;\n",
              "          element.appendChild(docLink);\n",
              "        }\n",
              "      </script>\n",
              "    </div>\n",
              "  </div>\n",
              "  "
            ]
          },
          "metadata": {},
          "execution_count": 36
        }
      ]
    },
    {
      "cell_type": "code",
      "metadata": {
        "colab": {
          "base_uri": "https://localhost:8080/",
          "height": 592
        },
        "id": "8d2lzTf-5Rv0",
        "outputId": "d3f62d43-43b8-45c6-b70b-4c7333e6e7db"
      },
      "source": [
        "plt.figure(figsize=(10,10))\n",
        "plt.plot(serie)\n",
        "plt.show()"
      ],
      "execution_count": 37,
      "outputs": [
        {
          "output_type": "display_data",
          "data": {
            "text/plain": [
              "<Figure size 720x720 with 1 Axes>"
            ],
            "image/png": "[encoded data removed]"
          },
          "metadata": {
            "needs_background": "light"
          }
        }
      ]
    },
    {
      "cell_type": "code",
      "metadata": {
        "id": "ufqrvgCSjOuE"
      },
      "source": [
        "data = serie.values"
      ],
      "execution_count": 38,
      "outputs": []
    },
    {
      "cell_type": "markdown",
      "metadata": {
        "id": "ZLC3UA7ombeL"
      },
      "source": [
        "Preparar los datos para un problema supervisado"
      ]
    },
    {
      "cell_type": "code",
      "metadata": {
        "id": "AJt0mLivkM6U"
      },
      "source": [
        "def series_to_supervised(data, n_in, n_out=1):\n",
        "  df = pd.DataFrame(data)\n",
        "  cols = list()\n",
        "  # serie de entrada: (t-n, ... t-1)\n",
        "  for i in range(n_in, 0, -1):\n",
        "    cols.append(df.shift(i))\n",
        "  # serie de predicción: (t, t+1, ... t+n)\n",
        "  for i in range(0, n_out):\n",
        "    cols.append(df.shift(-i))\n",
        "  # concatenar datos\n",
        "  agg = pd.concat(cols, axis=1)\n",
        "  # quitar valores vacíos\n",
        "  agg.dropna(inplace=True)\n",
        "  return agg.values"
      ],
      "execution_count": 186,
      "outputs": []
    },
    {
      "cell_type": "code",
      "source": [
        "def series_to_supervised(data, n_in, n_out=1):\n",
        "  df = pd.DataFrame(data)\n",
        "  # serie de entrada: (t-n, ... t-1)\n",
        "  cols=[df.shift(-i) for i in range(0,n_in, 1)]\n",
        "  # serie de predicción: (t, t+1, ... t+n)\n",
        "  for i in range(0, n_out):\n",
        "    cols.append(df.shift(-(n_in+i)))\n",
        "  # concatenar datos\n",
        "  agg = pd.concat(cols, axis=1)\n",
        "  # quitar valores vacíos\n",
        "  agg.dropna(inplace=True)\n",
        "  return agg.values"
      ],
      "metadata": {
        "id": "evXZxp0TfHu2"
      },
      "execution_count": 200,
      "outputs": []
    },
    {
      "cell_type": "code",
      "source": [
        "n_input=12\n",
        "data_transform=series_to_supervised(data, n_input)"
      ],
      "metadata": {
        "id": "-JrgZ7sFOOj7"
      },
      "execution_count": 201,
      "outputs": []
    },
    {
      "cell_type": "code",
      "source": [
        "data_transform"
      ],
      "metadata": {
        "colab": {
          "base_uri": "https://localhost:8080/"
        },
        "id": "cZqkfihsOUV-",
        "outputId": "98c83ddc-849e-4f4b-f3a6-1090289c7eb5"
      },
      "execution_count": 202,
      "outputs": [
        {
          "output_type": "execute_result",
          "data": {
            "text/plain": [
              "array([[ 6550.,  8728., 12026., ...,  9364.,  8456.,  7237.],\n",
              "       [ 8728., 12026., 14395., ...,  8456.,  7237.,  9374.],\n",
              "       [12026., 14395., 14587., ...,  7237.,  9374., 11837.],\n",
              "       ...,\n",
              "       [17187., 16119., 13713., ..., 16722., 14385., 21342.],\n",
              "       [16119., 13713., 13210., ..., 14385., 21342., 17180.],\n",
              "       [13713., 13210., 14251., ..., 21342., 17180., 14577.]])"
            ]
          },
          "metadata": {},
          "execution_count": 202
        }
      ]
    },
    {
      "cell_type": "markdown",
      "source": [
        "Dividiendo en entrenamiento y prueba (dejando los 12 últimos meses de prueba)"
      ],
      "metadata": {
        "id": "cX56-NK1ddTX"
      }
    },
    {
      "cell_type": "code",
      "source": [
        "n_test = 12"
      ],
      "metadata": {
        "id": "AH8fvB7UdZHB"
      },
      "execution_count": 237,
      "outputs": []
    },
    {
      "cell_type": "code",
      "source": [
        "train_data,test_data= data_transform[:-n_test], data_transform[-n_test:]"
      ],
      "metadata": {
        "id": "DALlz1f6OXft"
      },
      "execution_count": 238,
      "outputs": []
    },
    {
      "cell_type": "code",
      "source": [
        "x_train, y_train = train_data[:, :-1], train_data[:, -1]"
      ],
      "metadata": {
        "id": "01ou6YcRPMMl"
      },
      "execution_count": 239,
      "outputs": []
    },
    {
      "cell_type": "code",
      "source": [
        "x_test, y_test = test_data[:, :-1], test_data[:, -1]"
      ],
      "metadata": {
        "id": "ZENqxBQ6QDmB"
      },
      "execution_count": 240,
      "outputs": []
    },
    {
      "cell_type": "code",
      "source": [
        "from sklearn.neural_network import MLPClassifier\n",
        "mlp = MLPClassifier(solver='adam', alpha=1e-5,hidden_layer_sizes=(2048,), random_state=1,max_iter=1000)"
      ],
      "metadata": {
        "id": "6L6zNUT_M_8p"
      },
      "execution_count": 207,
      "outputs": []
    },
    {
      "cell_type": "code",
      "source": [
        "mlp.fit(x_train, y_train)"
      ],
      "metadata": {
        "colab": {
          "base_uri": "https://localhost:8080/"
        },
        "id": "AJPPWvXaNX7w",
        "outputId": "177ce334-1bd5-44f4-f5c5-d5d903e29ee4"
      },
      "execution_count": 127,
      "outputs": [
        {
          "output_type": "execute_result",
          "data": {
            "text/plain": [
              "MLPClassifier(alpha=1e-05, hidden_layer_sizes=(2048,), max_iter=1000,\n",
              "              random_state=1)"
            ]
          },
          "metadata": {},
          "execution_count": 127
        }
      ]
    },
    {
      "cell_type": "code",
      "source": [
        "y_pred=mlp.predict(x_test)"
      ],
      "metadata": {
        "id": "9jgEI7pzNf48"
      },
      "execution_count": 128,
      "outputs": []
    },
    {
      "cell_type": "code",
      "source": [
        "for t, p in zip(y_test, y_pred):\n",
        "  print(t, p, t-p)"
      ],
      "metadata": {
        "colab": {
          "base_uri": "https://localhost:8080/"
        },
        "id": "LL0FYIRnQh9B",
        "outputId": "b2fc6811-0d80-4746-85f1-9537fd15f443"
      },
      "execution_count": 129,
      "outputs": [
        {
          "output_type": "stream",
          "name": "stdout",
          "text": [
            "13210.0 12225.0 985.0\n",
            "14251.0 10947.0 3304.0\n",
            "20139.0 20985.0 -846.0\n",
            "21725.0 23125.0 -1400.0\n",
            "26099.0 23541.0 2558.0\n",
            "21084.0 19933.0 1151.0\n",
            "18024.0 12268.0 5756.0\n",
            "16722.0 13434.0 3288.0\n",
            "14385.0 13401.0 984.0\n",
            "21342.0 16135.0 5207.0\n",
            "17180.0 17697.0 -517.0\n",
            "14577.0 14720.0 -143.0\n"
          ]
        }
      ]
    },
    {
      "cell_type": "code",
      "source": [
        "plt.figure(figsize=(20, 10))\n",
        "plt.plot(y_test, label='y_test',linewidth=1)\n",
        "plt.plot(y_pred, label='y_predicted',linewidth=1)\n",
        "plt.legend(loc='upper left')\n",
        "plt.show()"
      ],
      "metadata": {
        "colab": {
          "base_uri": "https://localhost:8080/",
          "height": 569
        },
        "id": "c6vM7DCORFCn",
        "outputId": "d09ce313-7705-4890-a1e7-04a7347f3685"
      },
      "execution_count": 130,
      "outputs": [
        {
          "output_type": "display_data",
          "data": {
            "text/plain": [
              "<Figure size 1440x720 with 1 Axes>"
            ],
            "image/png": "[encoded data removed]"
          },
          "metadata": {
            "needs_background": "light"
          }
        }
      ]
    },
    {
      "cell_type": "code",
      "source": [
        "rmse = sqrt(mean_squared_error(y_test, y_pred))\n",
        "print('RMSE: %.2f' % rmse)\n",
        "r2 = r2_score(y_test, y_pred)\n",
        "mae=mean_absolute_error(y_test, y_pred)\n",
        "print('MAE: %.2f' % mae)\n",
        "print('R2: %.2f' % r2)"
      ],
      "metadata": {
        "colab": {
          "base_uri": "https://localhost:8080/"
        },
        "id": "m5x275tuRpz4",
        "outputId": "dee5dd1c-5389-4516-a1f5-5ca81706564c"
      },
      "execution_count": 131,
      "outputs": [
        {
          "output_type": "stream",
          "name": "stdout",
          "text": [
            "RMSE: 2809.83\n",
            "MAE: 2178.25\n",
            "R2: 0.44\n"
          ]
        }
      ]
    },
    {
      "cell_type": "code",
      "metadata": {
        "id": "siLK7zA1nBPE"
      },
      "source": [
        "model = Sequential()\n",
        "model.add(Dense(500, activation='relu', input_dim=n_input))\n",
        "model.add(Dense(1))\n",
        "model.compile(loss='mse', optimizer='adam')"
      ],
      "execution_count": 241,
      "outputs": []
    },
    {
      "cell_type": "code",
      "metadata": {
        "colab": {
          "base_uri": "https://localhost:8080/"
        },
        "id": "6LCFZhH6nEdc",
        "outputId": "636fbe91-9947-42ef-8171-0014ffe49ebd"
      },
      "source": [
        "model.fit(x_train, y_train, epochs=200, batch_size=100)"
      ],
      "execution_count": 242,
      "outputs": [
        {
          "output_type": "stream",
          "name": "stdout",
          "text": [
            "Epoch 1/200\n",
            "1/1 [==============================] - 0s 399ms/step - loss: 171936432.0000\n",
            "Epoch 2/200\n",
            "1/1 [==============================] - 0s 13ms/step - loss: 104999592.0000\n",
            "Epoch 3/200\n",
            "1/1 [==============================] - 0s 16ms/step - loss: 57023444.0000\n",
            "Epoch 4/200\n",
            "1/1 [==============================] - 0s 9ms/step - loss: 27415622.0000\n",
            "Epoch 5/200\n",
            "1/1 [==============================] - 0s 10ms/step - loss: 14649541.0000\n",
            "Epoch 6/200\n",
            "1/1 [==============================] - 0s 10ms/step - loss: 15354470.0000\n",
            "Epoch 7/200\n",
            "1/1 [==============================] - 0s 12ms/step - loss: 23760924.0000\n",
            "Epoch 8/200\n",
            "1/1 [==============================] - 0s 10ms/step - loss: 33276358.0000\n",
            "Epoch 9/200\n",
            "1/1 [==============================] - 0s 11ms/step - loss: 39310448.0000\n",
            "Epoch 10/200\n",
            "1/1 [==============================] - 0s 10ms/step - loss: 40320456.0000\n",
            "Epoch 11/200\n",
            "1/1 [==============================] - 0s 10ms/step - loss: 36985300.0000\n",
            "Epoch 12/200\n",
            "1/1 [==============================] - 0s 21ms/step - loss: 30985164.0000\n",
            "Epoch 13/200\n",
            "1/1 [==============================] - 0s 15ms/step - loss: 24134684.0000\n",
            "Epoch 14/200\n",
            "1/1 [==============================] - 0s 13ms/step - loss: 17933140.0000\n",
            "Epoch 15/200\n",
            "1/1 [==============================] - 0s 14ms/step - loss: 13315470.0000\n",
            "Epoch 16/200\n",
            "1/1 [==============================] - 0s 21ms/step - loss: 10684472.0000\n",
            "Epoch 17/200\n",
            "1/1 [==============================] - 0s 10ms/step - loss: 9949860.0000\n",
            "Epoch 18/200\n",
            "1/1 [==============================] - 0s 10ms/step - loss: 10637061.0000\n",
            "Epoch 19/200\n",
            "1/1 [==============================] - 0s 10ms/step - loss: 12089081.0000\n",
            "Epoch 20/200\n",
            "1/1 [==============================] - 0s 17ms/step - loss: 13626793.0000\n",
            "Epoch 21/200\n",
            "1/1 [==============================] - 0s 12ms/step - loss: 14700945.0000\n",
            "Epoch 22/200\n",
            "1/1 [==============================] - 0s 9ms/step - loss: 14993405.0000\n",
            "Epoch 23/200\n",
            "1/1 [==============================] - 0s 14ms/step - loss: 14427883.0000\n",
            "Epoch 24/200\n",
            "1/1 [==============================] - 0s 15ms/step - loss: 13150094.0000\n",
            "Epoch 25/200\n",
            "1/1 [==============================] - 0s 16ms/step - loss: 11455911.0000\n",
            "Epoch 26/200\n",
            "1/1 [==============================] - 0s 9ms/step - loss: 9697227.0000\n",
            "Epoch 27/200\n",
            "1/1 [==============================] - 0s 11ms/step - loss: 8194407.0000\n",
            "Epoch 28/200\n",
            "1/1 [==============================] - 0s 9ms/step - loss: 7170378.5000\n",
            "Epoch 29/200\n",
            "1/1 [==============================] - 0s 14ms/step - loss: 6719719.0000\n",
            "Epoch 30/200\n",
            "1/1 [==============================] - 0s 14ms/step - loss: 6774970.0000\n",
            "Epoch 31/200\n",
            "1/1 [==============================] - 0s 12ms/step - loss: 7148727.5000\n",
            "Epoch 32/200\n",
            "1/1 [==============================] - 0s 13ms/step - loss: 7596801.0000\n",
            "Epoch 33/200\n",
            "1/1 [==============================] - 0s 11ms/step - loss: 7889037.5000\n",
            "Epoch 34/200\n",
            "1/1 [==============================] - 0s 9ms/step - loss: 7879998.5000\n",
            "Epoch 35/200\n",
            "1/1 [==============================] - 0s 10ms/step - loss: 7542786.5000\n",
            "Epoch 36/200\n",
            "1/1 [==============================] - 0s 9ms/step - loss: 6953973.5000\n",
            "Epoch 37/200\n",
            "1/1 [==============================] - 0s 9ms/step - loss: 6259021.5000\n",
            "Epoch 38/200\n",
            "1/1 [==============================] - 0s 9ms/step - loss: 5619468.0000\n",
            "Epoch 39/200\n",
            "1/1 [==============================] - 0s 9ms/step - loss: 5155636.0000\n",
            "Epoch 40/200\n",
            "1/1 [==============================] - 0s 10ms/step - loss: 4922209.0000\n",
            "Epoch 41/200\n",
            "1/1 [==============================] - 0s 10ms/step - loss: 4895477.0000\n",
            "Epoch 42/200\n",
            "1/1 [==============================] - 0s 10ms/step - loss: 4993007.5000\n",
            "Epoch 43/200\n",
            "1/1 [==============================] - 0s 10ms/step - loss: 5108413.0000\n",
            "Epoch 44/200\n",
            "1/1 [==============================] - 0s 15ms/step - loss: 5149250.5000\n",
            "Epoch 45/200\n",
            "1/1 [==============================] - 0s 16ms/step - loss: 5063543.5000\n",
            "Epoch 46/200\n",
            "1/1 [==============================] - 0s 10ms/step - loss: 4852711.0000\n",
            "Epoch 47/200\n",
            "1/1 [==============================] - 0s 11ms/step - loss: 4562614.5000\n",
            "Epoch 48/200\n",
            "1/1 [==============================] - 0s 11ms/step - loss: 4261660.0000\n",
            "Epoch 49/200\n",
            "1/1 [==============================] - 0s 16ms/step - loss: 4015939.5000\n",
            "Epoch 50/200\n",
            "1/1 [==============================] - 0s 11ms/step - loss: 3865172.2500\n",
            "Epoch 51/200\n",
            "1/1 [==============================] - 0s 11ms/step - loss: 3810552.5000\n",
            "Epoch 52/200\n",
            "1/1 [==============================] - 0s 11ms/step - loss: 3820096.0000\n",
            "Epoch 53/200\n",
            "1/1 [==============================] - 0s 11ms/step - loss: 3844552.5000\n",
            "Epoch 54/200\n",
            "1/1 [==============================] - 0s 12ms/step - loss: 3836299.0000\n",
            "Epoch 55/200\n",
            "1/1 [==============================] - 0s 12ms/step - loss: 3770739.7500\n",
            "Epoch 56/200\n",
            "1/1 [==============================] - 0s 13ms/step - loss: 3652067.7500\n",
            "Epoch 57/200\n",
            "1/1 [==============================] - 0s 10ms/step - loss: 3507301.2500\n",
            "Epoch 58/200\n",
            "1/1 [==============================] - 0s 9ms/step - loss: 3370945.5000\n",
            "Epoch 59/200\n",
            "1/1 [==============================] - 0s 10ms/step - loss: 3270517.0000\n",
            "Epoch 60/200\n",
            "1/1 [==============================] - 0s 9ms/step - loss: 3215891.5000\n",
            "Epoch 61/200\n",
            "1/1 [==============================] - 0s 11ms/step - loss: 3198269.7500\n",
            "Epoch 62/200\n",
            "1/1 [==============================] - 0s 13ms/step - loss: 3196757.7500\n",
            "Epoch 63/200\n",
            "1/1 [==============================] - 0s 9ms/step - loss: 3187165.2500\n",
            "Epoch 64/200\n",
            "1/1 [==============================] - 0s 8ms/step - loss: 3154366.7500\n",
            "Epoch 65/200\n",
            "1/1 [==============================] - 0s 8ms/step - loss: 3097644.0000\n",
            "Epoch 66/200\n",
            "1/1 [==============================] - 0s 20ms/step - loss: 3027682.0000\n",
            "Epoch 67/200\n",
            "1/1 [==============================] - 0s 9ms/step - loss: 2960927.2500\n",
            "Epoch 68/200\n",
            "1/1 [==============================] - 0s 10ms/step - loss: 2910628.0000\n",
            "Epoch 69/200\n",
            "1/1 [==============================] - 0s 14ms/step - loss: 2881568.0000\n",
            "Epoch 70/200\n",
            "1/1 [==============================] - 0s 11ms/step - loss: 2869711.0000\n",
            "Epoch 71/200\n",
            "1/1 [==============================] - 0s 16ms/step - loss: 2863843.7500\n",
            "Epoch 72/200\n",
            "1/1 [==============================] - 0s 11ms/step - loss: 2852577.2500\n",
            "Epoch 73/200\n",
            "1/1 [==============================] - 0s 10ms/step - loss: 2829943.2500\n",
            "Epoch 74/200\n",
            "1/1 [==============================] - 0s 10ms/step - loss: 2797326.5000\n",
            "Epoch 75/200\n",
            "1/1 [==============================] - 0s 9ms/step - loss: 2761495.0000\n",
            "Epoch 76/200\n",
            "1/1 [==============================] - 0s 9ms/step - loss: 2730373.2500\n",
            "Epoch 77/200\n",
            "1/1 [==============================] - 0s 8ms/step - loss: 2709449.2500\n",
            "Epoch 78/200\n",
            "1/1 [==============================] - 0s 9ms/step - loss: 2697997.2500\n",
            "Epoch 79/200\n",
            "1/1 [==============================] - 0s 9ms/step - loss: 2691438.2500\n",
            "Epoch 80/200\n",
            "1/1 [==============================] - 0s 9ms/step - loss: 2684143.5000\n",
            "Epoch 81/200\n",
            "1/1 [==============================] - 0s 9ms/step - loss: 2672118.7500\n",
            "Epoch 82/200\n",
            "1/1 [==============================] - 0s 8ms/step - loss: 2655087.0000\n",
            "Epoch 83/200\n",
            "1/1 [==============================] - 0s 12ms/step - loss: 2635988.0000\n",
            "Epoch 84/200\n",
            "1/1 [==============================] - 0s 11ms/step - loss: 2618787.2500\n",
            "Epoch 85/200\n",
            "1/1 [==============================] - 0s 11ms/step - loss: 2606129.5000\n",
            "Epoch 86/200\n",
            "1/1 [==============================] - 0s 11ms/step - loss: 2598136.5000\n",
            "Epoch 87/200\n",
            "1/1 [==============================] - 0s 11ms/step - loss: 2592695.2500\n",
            "Epoch 88/200\n",
            "1/1 [==============================] - 0s 10ms/step - loss: 2587062.0000\n",
            "Epoch 89/200\n",
            "1/1 [==============================] - 0s 10ms/step - loss: 2579160.2500\n",
            "Epoch 90/200\n",
            "1/1 [==============================] - 0s 11ms/step - loss: 2569023.0000\n",
            "Epoch 91/200\n",
            "1/1 [==============================] - 0s 10ms/step - loss: 2558315.7500\n",
            "Epoch 92/200\n",
            "1/1 [==============================] - 0s 11ms/step - loss: 2548898.0000\n",
            "Epoch 93/200\n",
            "1/1 [==============================] - 0s 11ms/step - loss: 2541896.5000\n",
            "Epoch 94/200\n",
            "1/1 [==============================] - 0s 11ms/step - loss: 2536992.5000\n",
            "Epoch 95/200\n",
            "1/1 [==============================] - 0s 11ms/step - loss: 2532938.0000\n",
            "Epoch 96/200\n",
            "1/1 [==============================] - 0s 11ms/step - loss: 2528435.5000\n",
            "Epoch 97/200\n",
            "1/1 [==============================] - 0s 11ms/step - loss: 2522857.0000\n",
            "Epoch 98/200\n",
            "1/1 [==============================] - 0s 10ms/step - loss: 2516423.5000\n",
            "Epoch 99/200\n",
            "1/1 [==============================] - 0s 11ms/step - loss: 2509945.7500\n",
            "Epoch 100/200\n",
            "1/1 [==============================] - 0s 12ms/step - loss: 2504299.0000\n",
            "Epoch 101/200\n",
            "1/1 [==============================] - 0s 12ms/step - loss: 2499734.0000\n",
            "Epoch 102/200\n",
            "1/1 [==============================] - 0s 12ms/step - loss: 2495965.7500\n",
            "Epoch 103/200\n",
            "1/1 [==============================] - 0s 12ms/step - loss: 2492315.2500\n",
            "Epoch 104/200\n",
            "1/1 [==============================] - 0s 12ms/step - loss: 2488202.5000\n",
            "Epoch 105/200\n",
            "1/1 [==============================] - 0s 12ms/step - loss: 2483522.0000\n",
            "Epoch 106/200\n",
            "1/1 [==============================] - 0s 11ms/step - loss: 2478947.5000\n",
            "Epoch 107/200\n",
            "1/1 [==============================] - 0s 11ms/step - loss: 2474508.2500\n",
            "Epoch 108/200\n",
            "1/1 [==============================] - 0s 11ms/step - loss: 2470540.7500\n",
            "Epoch 109/200\n",
            "1/1 [==============================] - 0s 12ms/step - loss: 2467002.5000\n",
            "Epoch 110/200\n",
            "1/1 [==============================] - 0s 12ms/step - loss: 2463680.5000\n",
            "Epoch 111/200\n",
            "1/1 [==============================] - 0s 12ms/step - loss: 2460222.5000\n",
            "Epoch 112/200\n",
            "1/1 [==============================] - 0s 11ms/step - loss: 2456360.7500\n",
            "Epoch 113/200\n",
            "1/1 [==============================] - 0s 11ms/step - loss: 2452578.2500\n",
            "Epoch 114/200\n",
            "1/1 [==============================] - 0s 14ms/step - loss: 2449035.0000\n",
            "Epoch 115/200\n",
            "1/1 [==============================] - 0s 10ms/step - loss: 2445806.7500\n",
            "Epoch 116/200\n",
            "1/1 [==============================] - 0s 20ms/step - loss: 2442695.2500\n",
            "Epoch 117/200\n",
            "1/1 [==============================] - 0s 11ms/step - loss: 2439756.2500\n",
            "Epoch 118/200\n",
            "1/1 [==============================] - 0s 13ms/step - loss: 2436757.2500\n",
            "Epoch 119/200\n",
            "1/1 [==============================] - 0s 15ms/step - loss: 2433686.0000\n",
            "Epoch 120/200\n",
            "1/1 [==============================] - 0s 14ms/step - loss: 2430610.7500\n",
            "Epoch 121/200\n",
            "1/1 [==============================] - 0s 26ms/step - loss: 2427625.2500\n",
            "Epoch 122/200\n",
            "1/1 [==============================] - 0s 14ms/step - loss: 2424881.5000\n",
            "Epoch 123/200\n",
            "1/1 [==============================] - 0s 27ms/step - loss: 2422365.2500\n",
            "Epoch 124/200\n",
            "1/1 [==============================] - 0s 19ms/step - loss: 2419984.5000\n",
            "Epoch 125/200\n",
            "1/1 [==============================] - 0s 16ms/step - loss: 2417621.2500\n",
            "Epoch 126/200\n",
            "1/1 [==============================] - 0s 16ms/step - loss: 2415221.2500\n",
            "Epoch 127/200\n",
            "1/1 [==============================] - 0s 14ms/step - loss: 2412746.5000\n",
            "Epoch 128/200\n",
            "1/1 [==============================] - 0s 13ms/step - loss: 2410251.5000\n",
            "Epoch 129/200\n",
            "1/1 [==============================] - 0s 12ms/step - loss: 2407767.7500\n",
            "Epoch 130/200\n",
            "1/1 [==============================] - 0s 10ms/step - loss: 2405162.0000\n",
            "Epoch 131/200\n",
            "1/1 [==============================] - 0s 10ms/step - loss: 2402504.2500\n",
            "Epoch 132/200\n",
            "1/1 [==============================] - 0s 10ms/step - loss: 2399769.7500\n",
            "Epoch 133/200\n",
            "1/1 [==============================] - 0s 10ms/step - loss: 2396990.5000\n",
            "Epoch 134/200\n",
            "1/1 [==============================] - 0s 10ms/step - loss: 2394360.0000\n",
            "Epoch 135/200\n",
            "1/1 [==============================] - 0s 10ms/step - loss: 2391731.5000\n",
            "Epoch 136/200\n",
            "1/1 [==============================] - 0s 10ms/step - loss: 2389120.0000\n",
            "Epoch 137/200\n",
            "1/1 [==============================] - 0s 11ms/step - loss: 2386471.5000\n",
            "Epoch 138/200\n",
            "1/1 [==============================] - 0s 20ms/step - loss: 2383855.2500\n",
            "Epoch 139/200\n",
            "1/1 [==============================] - 0s 15ms/step - loss: 2381223.7500\n",
            "Epoch 140/200\n",
            "1/1 [==============================] - 0s 14ms/step - loss: 2378566.7500\n",
            "Epoch 141/200\n",
            "1/1 [==============================] - 0s 15ms/step - loss: 2375902.5000\n",
            "Epoch 142/200\n",
            "1/1 [==============================] - 0s 16ms/step - loss: 2373275.7500\n",
            "Epoch 143/200\n",
            "1/1 [==============================] - 0s 28ms/step - loss: 2370693.0000\n",
            "Epoch 144/200\n",
            "1/1 [==============================] - 0s 17ms/step - loss: 2368105.2500\n",
            "Epoch 145/200\n",
            "1/1 [==============================] - 0s 19ms/step - loss: 2365642.7500\n",
            "Epoch 146/200\n",
            "1/1 [==============================] - 0s 17ms/step - loss: 2363262.7500\n",
            "Epoch 147/200\n",
            "1/1 [==============================] - 0s 19ms/step - loss: 2360838.0000\n",
            "Epoch 148/200\n",
            "1/1 [==============================] - 0s 12ms/step - loss: 2358496.2500\n",
            "Epoch 149/200\n",
            "1/1 [==============================] - 0s 13ms/step - loss: 2356228.0000\n",
            "Epoch 150/200\n",
            "1/1 [==============================] - 0s 12ms/step - loss: 2353998.2500\n",
            "Epoch 151/200\n",
            "1/1 [==============================] - 0s 13ms/step - loss: 2351750.0000\n",
            "Epoch 152/200\n",
            "1/1 [==============================] - 0s 12ms/step - loss: 2349522.0000\n",
            "Epoch 153/200\n",
            "1/1 [==============================] - 0s 13ms/step - loss: 2347286.0000\n",
            "Epoch 154/200\n",
            "1/1 [==============================] - 0s 13ms/step - loss: 2345009.5000\n",
            "Epoch 155/200\n",
            "1/1 [==============================] - 0s 14ms/step - loss: 2342696.7500\n",
            "Epoch 156/200\n",
            "1/1 [==============================] - 0s 13ms/step - loss: 2340411.5000\n",
            "Epoch 157/200\n",
            "1/1 [==============================] - 0s 13ms/step - loss: 2338105.5000\n",
            "Epoch 158/200\n",
            "1/1 [==============================] - 0s 14ms/step - loss: 2335741.5000\n",
            "Epoch 159/200\n",
            "1/1 [==============================] - 0s 13ms/step - loss: 2333461.2500\n",
            "Epoch 160/200\n",
            "1/1 [==============================] - 0s 14ms/step - loss: 2331146.7500\n",
            "Epoch 161/200\n",
            "1/1 [==============================] - 0s 11ms/step - loss: 2329133.2500\n",
            "Epoch 162/200\n",
            "1/1 [==============================] - 0s 11ms/step - loss: 2327049.0000\n",
            "Epoch 163/200\n",
            "1/1 [==============================] - 0s 13ms/step - loss: 2324754.0000\n",
            "Epoch 164/200\n",
            "1/1 [==============================] - 0s 13ms/step - loss: 2322581.7500\n",
            "Epoch 165/200\n",
            "1/1 [==============================] - 0s 13ms/step - loss: 2320488.0000\n",
            "Epoch 166/200\n",
            "1/1 [==============================] - 0s 12ms/step - loss: 2318409.2500\n",
            "Epoch 167/200\n",
            "1/1 [==============================] - 0s 13ms/step - loss: 2316312.7500\n",
            "Epoch 168/200\n",
            "1/1 [==============================] - 0s 12ms/step - loss: 2314210.0000\n",
            "Epoch 169/200\n",
            "1/1 [==============================] - 0s 12ms/step - loss: 2312081.5000\n",
            "Epoch 170/200\n",
            "1/1 [==============================] - 0s 13ms/step - loss: 2309983.7500\n",
            "Epoch 171/200\n",
            "1/1 [==============================] - 0s 13ms/step - loss: 2307964.5000\n",
            "Epoch 172/200\n",
            "1/1 [==============================] - 0s 16ms/step - loss: 2305912.2500\n",
            "Epoch 173/200\n",
            "1/1 [==============================] - 0s 16ms/step - loss: 2303890.5000\n",
            "Epoch 174/200\n",
            "1/1 [==============================] - 0s 19ms/step - loss: 2301771.7500\n",
            "Epoch 175/200\n",
            "1/1 [==============================] - 0s 12ms/step - loss: 2299710.0000\n",
            "Epoch 176/200\n",
            "1/1 [==============================] - 0s 14ms/step - loss: 2297667.0000\n",
            "Epoch 177/200\n",
            "1/1 [==============================] - 0s 13ms/step - loss: 2295630.2500\n",
            "Epoch 178/200\n",
            "1/1 [==============================] - 0s 12ms/step - loss: 2293571.0000\n",
            "Epoch 179/200\n",
            "1/1 [==============================] - 0s 12ms/step - loss: 2291529.2500\n",
            "Epoch 180/200\n",
            "1/1 [==============================] - 0s 12ms/step - loss: 2289491.5000\n",
            "Epoch 181/200\n",
            "1/1 [==============================] - 0s 13ms/step - loss: 2287521.2500\n",
            "Epoch 182/200\n",
            "1/1 [==============================] - 0s 12ms/step - loss: 2285500.7500\n",
            "Epoch 183/200\n",
            "1/1 [==============================] - 0s 25ms/step - loss: 2283555.0000\n",
            "Epoch 184/200\n",
            "1/1 [==============================] - 0s 17ms/step - loss: 2281622.7500\n",
            "Epoch 185/200\n",
            "1/1 [==============================] - 0s 17ms/step - loss: 2279667.5000\n",
            "Epoch 186/200\n",
            "1/1 [==============================] - 0s 18ms/step - loss: 2277730.7500\n",
            "Epoch 187/200\n",
            "1/1 [==============================] - 0s 20ms/step - loss: 2275763.0000\n",
            "Epoch 188/200\n",
            "1/1 [==============================] - 0s 15ms/step - loss: 2273858.7500\n",
            "Epoch 189/200\n",
            "1/1 [==============================] - 0s 15ms/step - loss: 2271905.2500\n",
            "Epoch 190/200\n",
            "1/1 [==============================] - 0s 20ms/step - loss: 2270024.7500\n",
            "Epoch 191/200\n",
            "1/1 [==============================] - 0s 15ms/step - loss: 2268126.5000\n",
            "Epoch 192/200\n",
            "1/1 [==============================] - 0s 21ms/step - loss: 2266228.5000\n",
            "Epoch 193/200\n",
            "1/1 [==============================] - 0s 13ms/step - loss: 2264303.7500\n",
            "Epoch 194/200\n",
            "1/1 [==============================] - 0s 20ms/step - loss: 2262381.5000\n",
            "Epoch 195/200\n",
            "1/1 [==============================] - 0s 15ms/step - loss: 2260446.0000\n",
            "Epoch 196/200\n",
            "1/1 [==============================] - 0s 17ms/step - loss: 2258675.5000\n",
            "Epoch 197/200\n",
            "1/1 [==============================] - 0s 11ms/step - loss: 2256692.5000\n",
            "Epoch 198/200\n",
            "1/1 [==============================] - 0s 9ms/step - loss: 2254837.5000\n",
            "Epoch 199/200\n",
            "1/1 [==============================] - 0s 12ms/step - loss: 2252956.7500\n",
            "Epoch 200/200\n",
            "1/1 [==============================] - 0s 10ms/step - loss: 2251074.2500\n"
          ]
        },
        {
          "output_type": "execute_result",
          "data": {
            "text/plain": [
              "<keras.callbacks.History at 0x7f5020863750>"
            ]
          },
          "metadata": {},
          "execution_count": 242
        }
      ]
    },
    {
      "cell_type": "code",
      "source": [
        "predictions=model.predict(x_test)"
      ],
      "metadata": {
        "id": "ddBz8Vmtd184"
      },
      "execution_count": 243,
      "outputs": []
    },
    {
      "cell_type": "code",
      "source": [
        "y_predict=predictions.flatten()"
      ],
      "metadata": {
        "id": "9NcRAF_peCop"
      },
      "execution_count": 244,
      "outputs": []
    },
    {
      "cell_type": "code",
      "metadata": {
        "colab": {
          "base_uri": "https://localhost:8080/"
        },
        "id": "FP7jN-bHroDm",
        "outputId": "eed1f457-952e-4f3d-fc1a-bcb3ec80b5a9"
      },
      "source": [
        "for t, p in zip(y_test, y_predict):\n",
        "  print(t, p, t-p)"
      ],
      "execution_count": 245,
      "outputs": [
        {
          "output_type": "stream",
          "name": "stdout",
          "text": [
            "13210.0 12358.001 851.9990234375\n",
            "14251.0 13732.829 518.1708984375\n",
            "20139.0 19849.31 289.689453125\n",
            "21725.0 22940.938 -1215.9375\n",
            "26099.0 24504.133 1594.8671875\n",
            "21084.0 21616.871 -532.87109375\n",
            "18024.0 16220.491 1803.5087890625\n",
            "16722.0 15099.299 1622.701171875\n",
            "14385.0 15474.506 -1089.505859375\n",
            "21342.0 17836.445 3505.5546875\n",
            "17180.0 17708.44 -528.439453125\n",
            "14577.0 15818.977 -1241.9765625\n"
          ]
        }
      ]
    },
    {
      "cell_type": "code",
      "metadata": {
        "colab": {
          "base_uri": "https://localhost:8080/",
          "height": 569
        },
        "id": "qk0eOKE10ZFT",
        "outputId": "e5ac230e-562d-4c4c-a2f8-bcaa89ae47f1"
      },
      "source": [
        "plt.figure(figsize=(20, 10))\n",
        "plt.plot(y_test, label='y_test',linewidth=1)\n",
        "plt.plot(predictions, label='y_predicted',linewidth=1)\n",
        "plt.legend(loc='upper left')\n",
        "plt.show()"
      ],
      "execution_count": 246,
      "outputs": [
        {
          "output_type": "display_data",
          "data": {
            "text/plain": [
              "<Figure size 1440x720 with 1 Axes>"
            ],
            "image/png": "[encoded data removed]"
          },
          "metadata": {
            "needs_background": "light"
          }
        }
      ]
    },
    {
      "cell_type": "code",
      "source": [
        "import plotly.express as px"
      ],
      "metadata": {
        "id": "9oBBpplSnlA0"
      },
      "execution_count": 247,
      "outputs": []
    },
    {
      "cell_type": "code",
      "source": [
        "test=serie.iloc[-n_test:,:]\n",
        "test"
      ],
      "metadata": {
        "colab": {
          "base_uri": "https://localhost:8080/",
          "height": 457
        },
        "id": "uUhzOQ7rnuSL",
        "outputId": "7c1ccb29-636a-4dcb-ef0f-b1b1c44e6fe4"
      },
      "execution_count": 248,
      "outputs": [
        {
          "output_type": "execute_result",
          "data": {
            "text/plain": [
              "         Sales\n",
              "Month         \n",
              "1968-01  13210\n",
              "1968-02  14251\n",
              "1968-03  20139\n",
              "1968-04  21725\n",
              "1968-05  26099\n",
              "1968-06  21084\n",
              "1968-07  18024\n",
              "1968-08  16722\n",
              "1968-09  14385\n",
              "1968-10  21342\n",
              "1968-11  17180\n",
              "1968-12  14577"
            ],
            "text/html": [
              "\n",
              "  <div id=\"df-a049bc61-d573-425b-b524-b6f178d08879\">\n",
              "    <div class=\"colab-df-container\">\n",
              "      <div>\n",
              "<style scoped>\n",
              "    .dataframe tbody tr th:only-of-type {\n",
              "        vertical-align: middle;\n",
              "    }\n",
              "\n",
              "    .dataframe tbody tr th {\n",
              "        vertical-align: top;\n",
              "    }\n",
              "\n",
              "    .dataframe thead th {\n",
              "        text-align: right;\n",
              "    }\n",
              "</style>\n",
              "<table border=\"1\" class=\"dataframe\">\n",
              "  <thead>\n",
              "    <tr style=\"text-align: right;\">\n",
              "      <th></th>\n",
              "      <th>Sales</th>\n",
              "    </tr>\n",
              "    <tr>\n",
              "      <th>Month</th>\n",
              "      <th></th>\n",
              "    </tr>\n",
              "  </thead>\n",
              "  <tbody>\n",
              "    <tr>\n",
              "      <th>1968-01</th>\n",
              "      <td>13210</td>\n",
              "    </tr>\n",
              "    <tr>\n",
              "      <th>1968-02</th>\n",
              "      <td>14251</td>\n",
              "    </tr>\n",
              "    <tr>\n",
              "      <th>1968-03</th>\n",
              "      <td>20139</td>\n",
              "    </tr>\n",
              "    <tr>\n",
              "      <th>1968-04</th>\n",
              "      <td>21725</td>\n",
              "    </tr>\n",
              "    <tr>\n",
              "      <th>1968-05</th>\n",
              "      <td>26099</td>\n",
              "    </tr>\n",
              "    <tr>\n",
              "      <th>1968-06</th>\n",
              "      <td>21084</td>\n",
              "    </tr>\n",
              "    <tr>\n",
              "      <th>1968-07</th>\n",
              "      <td>18024</td>\n",
              "    </tr>\n",
              "    <tr>\n",
              "      <th>1968-08</th>\n",
              "      <td>16722</td>\n",
              "    </tr>\n",
              "    <tr>\n",
              "      <th>1968-09</th>\n",
              "      <td>14385</td>\n",
              "    </tr>\n",
              "    <tr>\n",
              "      <th>1968-10</th>\n",
              "      <td>21342</td>\n",
              "    </tr>\n",
              "    <tr>\n",
              "      <th>1968-11</th>\n",
              "      <td>17180</td>\n",
              "    </tr>\n",
              "    <tr>\n",
              "      <th>1968-12</th>\n",
              "      <td>14577</td>\n",
              "    </tr>\n",
              "  </tbody>\n",
              "</table>\n",
              "</div>\n",
              "      <button class=\"colab-df-convert\" onclick=\"convertToInteractive('df-a049bc61-d573-425b-b524-b6f178d08879')\"\n",
              "              title=\"Convert this dataframe to an interactive table.\"\n",
              "              style=\"display:none;\">\n",
              "        \n",
              "  <svg xmlns=\"http://www.w3.org/2000/svg\" height=\"24px\"viewBox=\"0 0 24 24\"\n",
              "       width=\"24px\">\n",
              "    <path d=\"M0 0h24v24H0V0z\" fill=\"none\"/>\n",
              "    <path d=\"M18.56 5.44l.94 2.06.94-2.06 2.06-.94-2.06-.94-.94-2.06-.94 2.06-2.06.94zm-11 1L8.5 8.5l.94-2.06 2.06-.94-2.06-.94L8.5 2.5l-.94 2.06-2.06.94zm10 10l.94 2.06.94-2.06 2.06-.94-2.06-.94-.94-2.06-.94 2.06-2.06.94z\"/><path d=\"M17.41 7.96l-1.37-1.37c-.4-.4-.92-.59-1.43-.59-.52 0-1.04.2-1.43.59L10.3 9.45l-7.72 7.72c-.78.78-.78 2.05 0 2.83L4 21.41c.39.39.9.59 1.41.59.51 0 1.02-.2 1.41-.59l7.78-7.78 2.81-2.81c.8-.78.8-2.07 0-2.86zM5.41 20L4 18.59l7.72-7.72 1.47 1.35L5.41 20z\"/>\n",
              "  </svg>\n",
              "      </button>\n",
              "      \n",
              "  <style>\n",
              "    .colab-df-container {\n",
              "      display:flex;\n",
              "      flex-wrap:wrap;\n",
              "      gap: 12px;\n",
              "    }\n",
              "\n",
              "    .colab-df-convert {\n",
              "      background-color: #E8F0FE;\n",
              "      border: none;\n",
              "      border-radius: 50%;\n",
              "      cursor: pointer;\n",
              "      display: none;\n",
              "      fill: #1967D2;\n",
              "      height: 32px;\n",
              "      padding: 0 0 0 0;\n",
              "      width: 32px;\n",
              "    }\n",
              "\n",
              "    .colab-df-convert:hover {\n",
              "      background-color: #E2EBFA;\n",
              "      box-shadow: 0px 1px 2px rgba(60, 64, 67, 0.3), 0px 1px 3px 1px rgba(60, 64, 67, 0.15);\n",
              "      fill: #174EA6;\n",
              "    }\n",
              "\n",
              "    [theme=dark] .colab-df-convert {\n",
              "      background-color: #3B4455;\n",
              "      fill: #D2E3FC;\n",
              "    }\n",
              "\n",
              "    [theme=dark] .colab-df-convert:hover {\n",
              "      background-color: #434B5C;\n",
              "      box-shadow: 0px 1px 3px 1px rgba(0, 0, 0, 0.15);\n",
              "      filter: drop-shadow(0px 1px 2px rgba(0, 0, 0, 0.3));\n",
              "      fill: #FFFFFF;\n",
              "    }\n",
              "  </style>\n",
              "\n",
              "      <script>\n",
              "        const buttonEl =\n",
              "          document.querySelector('#df-a049bc61-d573-425b-b524-b6f178d08879 button.colab-df-convert');\n",
              "        buttonEl.style.display =\n",
              "          google.colab.kernel.accessAllowed ? 'block' : 'none';\n",
              "\n",
              "        async function convertToInteractive(key) {\n",
              "          const element = document.querySelector('#df-a049bc61-d573-425b-b524-b6f178d08879');\n",
              "          const dataTable =\n",
              "            await google.colab.kernel.invokeFunction('convertToInteractive',\n",
              "                                                     [key], {});\n",
              "          if (!dataTable) return;\n",
              "\n",
              "          const docLinkHtml = 'Like what you see? Visit the ' +\n",
              "            '<a target=\"_blank\" href=https://colab.research.google.com/notebooks/data_table.ipynb>data table notebook</a>'\n",
              "            + ' to learn more about interactive tables.';\n",
              "          element.innerHTML = '';\n",
              "          dataTable['output_type'] = 'display_data';\n",
              "          await google.colab.output.renderOutput(dataTable, element);\n",
              "          const docLink = document.createElement('div');\n",
              "          docLink.innerHTML = docLinkHtml;\n",
              "          element.appendChild(docLink);\n",
              "        }\n",
              "      </script>\n",
              "    </div>\n",
              "  </div>\n",
              "  "
            ]
          },
          "metadata": {},
          "execution_count": 248
        }
      ]
    },
    {
      "cell_type": "code",
      "source": [
        "test['Predict']=predictions"
      ],
      "metadata": {
        "colab": {
          "base_uri": "https://localhost:8080/"
        },
        "id": "K8GEkj6Loi6Y",
        "outputId": "af4deeb1-1fe4-4162-b621-3ecb05ee8228"
      },
      "execution_count": 249,
      "outputs": [
        {
          "output_type": "stream",
          "name": "stderr",
          "text": [
            "/usr/local/lib/python3.7/dist-packages/ipykernel_launcher.py:1: SettingWithCopyWarning:\n",
            "\n",
            "\n",
            "A value is trying to be set on a copy of a slice from a DataFrame.\n",
            "Try using .loc[row_indexer,col_indexer] = value instead\n",
            "\n",
            "See the caveats in the documentation: https://pandas.pydata.org/pandas-docs/stable/user_guide/indexing.html#returning-a-view-versus-a-copy\n",
            "\n"
          ]
        }
      ]
    },
    {
      "cell_type": "code",
      "source": [
        "test"
      ],
      "metadata": {
        "colab": {
          "base_uri": "https://localhost:8080/",
          "height": 457
        },
        "id": "7xHgNZYbosZl",
        "outputId": "a4709b87-7898-4962-b047-212d78d97a63"
      },
      "execution_count": 250,
      "outputs": [
        {
          "output_type": "execute_result",
          "data": {
            "text/plain": [
              "         Sales       Predict\n",
              "Month                       \n",
              "1968-01  13210  12358.000977\n",
              "1968-02  14251  13732.829102\n",
              "1968-03  20139  19849.310547\n",
              "1968-04  21725  22940.937500\n",
              "1968-05  26099  24504.132812\n",
              "1968-06  21084  21616.871094\n",
              "1968-07  18024  16220.491211\n",
              "1968-08  16722  15099.298828\n",
              "1968-09  14385  15474.505859\n",
              "1968-10  21342  17836.445312\n",
              "1968-11  17180  17708.439453\n",
              "1968-12  14577  15818.976562"
            ],
            "text/html": [
              "\n",
              "  <div id=\"df-3cc3918f-e3a2-43fb-8ff0-4b7ef5f8dcde\">\n",
              "    <div class=\"colab-df-container\">\n",
              "      <div>\n",
              "<style scoped>\n",
              "    .dataframe tbody tr th:only-of-type {\n",
              "        vertical-align: middle;\n",
              "    }\n",
              "\n",
              "    .dataframe tbody tr th {\n",
              "        vertical-align: top;\n",
              "    }\n",
              "\n",
              "    .dataframe thead th {\n",
              "        text-align: right;\n",
              "    }\n",
              "</style>\n",
              "<table border=\"1\" class=\"dataframe\">\n",
              "  <thead>\n",
              "    <tr style=\"text-align: right;\">\n",
              "      <th></th>\n",
              "      <th>Sales</th>\n",
              "      <th>Predict</th>\n",
              "    </tr>\n",
              "    <tr>\n",
              "      <th>Month</th>\n",
              "      <th></th>\n",
              "      <th></th>\n",
              "    </tr>\n",
              "  </thead>\n",
              "  <tbody>\n",
              "    <tr>\n",
              "      <th>1968-01</th>\n",
              "      <td>13210</td>\n",
              "      <td>12358.000977</td>\n",
              "    </tr>\n",
              "    <tr>\n",
              "      <th>1968-02</th>\n",
              "      <td>14251</td>\n",
              "      <td>13732.829102</td>\n",
              "    </tr>\n",
              "    <tr>\n",
              "      <th>1968-03</th>\n",
              "      <td>20139</td>\n",
              "      <td>19849.310547</td>\n",
              "    </tr>\n",
              "    <tr>\n",
              "      <th>1968-04</th>\n",
              "      <td>21725</td>\n",
              "      <td>22940.937500</td>\n",
              "    </tr>\n",
              "    <tr>\n",
              "      <th>1968-05</th>\n",
              "      <td>26099</td>\n",
              "      <td>24504.132812</td>\n",
              "    </tr>\n",
              "    <tr>\n",
              "      <th>1968-06</th>\n",
              "      <td>21084</td>\n",
              "      <td>21616.871094</td>\n",
              "    </tr>\n",
              "    <tr>\n",
              "      <th>1968-07</th>\n",
              "      <td>18024</td>\n",
              "      <td>16220.491211</td>\n",
              "    </tr>\n",
              "    <tr>\n",
              "      <th>1968-08</th>\n",
              "      <td>16722</td>\n",
              "      <td>15099.298828</td>\n",
              "    </tr>\n",
              "    <tr>\n",
              "      <th>1968-09</th>\n",
              "      <td>14385</td>\n",
              "      <td>15474.505859</td>\n",
              "    </tr>\n",
              "    <tr>\n",
              "      <th>1968-10</th>\n",
              "      <td>21342</td>\n",
              "      <td>17836.445312</td>\n",
              "    </tr>\n",
              "    <tr>\n",
              "      <th>1968-11</th>\n",
              "      <td>17180</td>\n",
              "      <td>17708.439453</td>\n",
              "    </tr>\n",
              "    <tr>\n",
              "      <th>1968-12</th>\n",
              "      <td>14577</td>\n",
              "      <td>15818.976562</td>\n",
              "    </tr>\n",
              "  </tbody>\n",
              "</table>\n",
              "</div>\n",
              "      <button class=\"colab-df-convert\" onclick=\"convertToInteractive('df-3cc3918f-e3a2-43fb-8ff0-4b7ef5f8dcde')\"\n",
              "              title=\"Convert this dataframe to an interactive table.\"\n",
              "              style=\"display:none;\">\n",
              "        \n",
              "  <svg xmlns=\"http://www.w3.org/2000/svg\" height=\"24px\"viewBox=\"0 0 24 24\"\n",
              "       width=\"24px\">\n",
              "    <path d=\"M0 0h24v24H0V0z\" fill=\"none\"/>\n",
              "    <path d=\"M18.56 5.44l.94 2.06.94-2.06 2.06-.94-2.06-.94-.94-2.06-.94 2.06-2.06.94zm-11 1L8.5 8.5l.94-2.06 2.06-.94-2.06-.94L8.5 2.5l-.94 2.06-2.06.94zm10 10l.94 2.06.94-2.06 2.06-.94-2.06-.94-.94-2.06-.94 2.06-2.06.94z\"/><path d=\"M17.41 7.96l-1.37-1.37c-.4-.4-.92-.59-1.43-.59-.52 0-1.04.2-1.43.59L10.3 9.45l-7.72 7.72c-.78.78-.78 2.05 0 2.83L4 21.41c.39.39.9.59 1.41.59.51 0 1.02-.2 1.41-.59l7.78-7.78 2.81-2.81c.8-.78.8-2.07 0-2.86zM5.41 20L4 18.59l7.72-7.72 1.47 1.35L5.41 20z\"/>\n",
              "  </svg>\n",
              "      </button>\n",
              "      \n",
              "  <style>\n",
              "    .colab-df-container {\n",
              "      display:flex;\n",
              "      flex-wrap:wrap;\n",
              "      gap: 12px;\n",
              "    }\n",
              "\n",
              "    .colab-df-convert {\n",
              "      background-color: #E8F0FE;\n",
              "      border: none;\n",
              "      border-radius: 50%;\n",
              "      cursor: pointer;\n",
              "      display: none;\n",
              "      fill: #1967D2;\n",
              "      height: 32px;\n",
              "      padding: 0 0 0 0;\n",
              "      width: 32px;\n",
              "    }\n",
              "\n",
              "    .colab-df-convert:hover {\n",
              "      background-color: #E2EBFA;\n",
              "      box-shadow: 0px 1px 2px rgba(60, 64, 67, 0.3), 0px 1px 3px 1px rgba(60, 64, 67, 0.15);\n",
              "      fill: #174EA6;\n",
              "    }\n",
              "\n",
              "    [theme=dark] .colab-df-convert {\n",
              "      background-color: #3B4455;\n",
              "      fill: #D2E3FC;\n",
              "    }\n",
              "\n",
              "    [theme=dark] .colab-df-convert:hover {\n",
              "      background-color: #434B5C;\n",
              "      box-shadow: 0px 1px 3px 1px rgba(0, 0, 0, 0.15);\n",
              "      filter: drop-shadow(0px 1px 2px rgba(0, 0, 0, 0.3));\n",
              "      fill: #FFFFFF;\n",
              "    }\n",
              "  </style>\n",
              "\n",
              "      <script>\n",
              "        const buttonEl =\n",
              "          document.querySelector('#df-3cc3918f-e3a2-43fb-8ff0-4b7ef5f8dcde button.colab-df-convert');\n",
              "        buttonEl.style.display =\n",
              "          google.colab.kernel.accessAllowed ? 'block' : 'none';\n",
              "\n",
              "        async function convertToInteractive(key) {\n",
              "          const element = document.querySelector('#df-3cc3918f-e3a2-43fb-8ff0-4b7ef5f8dcde');\n",
              "          const dataTable =\n",
              "            await google.colab.kernel.invokeFunction('convertToInteractive',\n",
              "                                                     [key], {});\n",
              "          if (!dataTable) return;\n",
              "\n",
              "          const docLinkHtml = 'Like what you see? Visit the ' +\n",
              "            '<a target=\"_blank\" href=https://colab.research.google.com/notebooks/data_table.ipynb>data table notebook</a>'\n",
              "            + ' to learn more about interactive tables.';\n",
              "          element.innerHTML = '';\n",
              "          dataTable['output_type'] = 'display_data';\n",
              "          await google.colab.output.renderOutput(dataTable, element);\n",
              "          const docLink = document.createElement('div');\n",
              "          docLink.innerHTML = docLinkHtml;\n",
              "          element.appendChild(docLink);\n",
              "        }\n",
              "      </script>\n",
              "    </div>\n",
              "  </div>\n",
              "  "
            ]
          },
          "metadata": {},
          "execution_count": 250
        }
      ]
    },
    {
      "cell_type": "code",
      "source": [
        "fig = px.line(test, x=test.index, y=[\"Sales\", \"Predict\"], template = 'plotly_dark')\n",
        "fig.show()"
      ],
      "metadata": {
        "colab": {
          "base_uri": "https://localhost:8080/",
          "height": 542
        },
        "id": "ledvpuO2nmLu",
        "outputId": "7be4b7c3-b487-4c8b-95c9-b398011514ba"
      },
      "execution_count": 251,
      "outputs": [
        {
          "output_type": "display_data",
          "data": {
            "text/html": [
              "<html>\n",
              "<head><meta charset=\"utf-8\" /></head>\n",
              "<body>\n",
              "    <div>            <script src=\"https://cdnjs.cloudflare.com/ajax/libs/mathjax/2.7.5/MathJax.js?config=TeX-AMS-MML_SVG\"></script><script type=\"text/javascript\">if (window.MathJax) {MathJax.Hub.Config({SVG: {font: \"STIX-Web\"}});}</script>                <script type=\"text/javascript\">window.PlotlyConfig = {MathJaxConfig: 'local'};</script>\n",
              "        <script src=\"https://cdn.plot.ly/plotly-2.8.3.min.js\"></script>                <div id=\"0f5cd500-5374-4d66-9666-e02cd6232f74\" class=\"plotly-graph-div\" style=\"height:525px; width:100%;\"></div>            <script type=\"text/javascript\">                                    window.PLOTLYENV=window.PLOTLYENV || {};                                    if (document.getElementById(\"0f5cd500-5374-4d66-9666-e02cd6232f74\")) {                    Plotly.newPlot(                        \"0f5cd500-5374-4d66-9666-e02cd6232f74\",                        [{\"hovertemplate\":\"variable=Sales<br>Month=%{x}<br>value=%{y}<extra></extra>\",\"legendgroup\":\"Sales\",\"line\":{\"color\":\"#636efa\",\"dash\":\"solid\"},\"marker\":{\"symbol\":\"circle\"},\"mode\":\"lines\",\"name\":\"Sales\",\"orientation\":\"v\",\"showlegend\":true,\"x\":[\"1968-01\",\"1968-02\",\"1968-03\",\"1968-04\",\"1968-05\",\"1968-06\",\"1968-07\",\"1968-08\",\"1968-09\",\"1968-10\",\"1968-11\",\"1968-12\"],\"xaxis\":\"x\",\"y\":[13210.0,14251.0,20139.0,21725.0,26099.0,21084.0,18024.0,16722.0,14385.0,21342.0,17180.0,14577.0],\"yaxis\":\"y\",\"type\":\"scatter\"},{\"hovertemplate\":\"variable=Predict<br>Month=%{x}<br>value=%{y}<extra></extra>\",\"legendgroup\":\"Predict\",\"line\":{\"color\":\"#EF553B\",\"dash\":\"solid\"},\"marker\":{\"symbol\":\"circle\"},\"mode\":\"lines\",\"name\":\"Predict\",\"orientation\":\"v\",\"showlegend\":true,\"x\":[\"1968-01\",\"1968-02\",\"1968-03\",\"1968-04\",\"1968-05\",\"1968-06\",\"1968-07\",\"1968-08\",\"1968-09\",\"1968-10\",\"1968-11\",\"1968-12\"],\"xaxis\":\"x\",\"y\":[12358.0009765625,13732.8291015625,19849.310546875,22940.9375,24504.1328125,21616.87109375,16220.4912109375,15099.298828125,15474.505859375,17836.4453125,17708.439453125,15818.9765625],\"yaxis\":\"y\",\"type\":\"scatter\"}],                        {\"template\":{\"data\":{\"barpolar\":[{\"marker\":{\"line\":{\"color\":\"rgb(17,17,17)\",\"width\":0.5},\"pattern\":{\"fillmode\":\"overlay\",\"size\":10,\"solidity\":0.2}},\"type\":\"barpolar\"}],\"bar\":[{\"error_x\":{\"color\":\"#f2f5fa\"},\"error_y\":{\"color\":\"#f2f5fa\"},\"marker\":{\"line\":{\"color\":\"rgb(17,17,17)\",\"width\":0.5},\"pattern\":{\"fillmode\":\"overlay\",\"size\":10,\"solidity\":0.2}},\"type\":\"bar\"}],\"carpet\":[{\"aaxis\":{\"endlinecolor\":\"#A2B1C6\",\"gridcolor\":\"#506784\",\"linecolor\":\"#506784\",\"minorgridcolor\":\"#506784\",\"startlinecolor\":\"#A2B1C6\"},\"baxis\":{\"endlinecolor\":\"#A2B1C6\",\"gridcolor\":\"#506784\",\"linecolor\":\"#506784\",\"minorgridcolor\":\"#506784\",\"startlinecolor\":\"#A2B1C6\"},\"type\":\"carpet\"}],\"choropleth\":[{\"colorbar\":{\"outlinewidth\":0,\"ticks\":\"\"},\"type\":\"choropleth\"}],\"contourcarpet\":[{\"colorbar\":{\"outlinewidth\":0,\"ticks\":\"\"},\"type\":\"contourcarpet\"}],\"contour\":[{\"colorbar\":{\"outlinewidth\":0,\"ticks\":\"\"},\"colorscale\":[[0.0,\"#0d0887\"],[0.1111111111111111,\"#46039f\"],[0.2222222222222222,\"#7201a8\"],[0.3333333333333333,\"#9c179e\"],[0.4444444444444444,\"#bd3786\"],[0.5555555555555556,\"#d8576b\"],[0.6666666666666666,\"#ed7953\"],[0.7777777777777778,\"#fb9f3a\"],[0.8888888888888888,\"#fdca26\"],[1.0,\"#f0f921\"]],\"type\":\"contour\"}],\"heatmapgl\":[{\"colorbar\":{\"outlinewidth\":0,\"ticks\":\"\"},\"colorscale\":[[0.0,\"#0d0887\"],[0.1111111111111111,\"#46039f\"],[0.2222222222222222,\"#7201a8\"],[0.3333333333333333,\"#9c179e\"],[0.4444444444444444,\"#bd3786\"],[0.5555555555555556,\"#d8576b\"],[0.6666666666666666,\"#ed7953\"],[0.7777777777777778,\"#fb9f3a\"],[0.8888888888888888,\"#fdca26\"],[1.0,\"#f0f921\"]],\"type\":\"heatmapgl\"}],\"heatmap\":[{\"colorbar\":{\"outlinewidth\":0,\"ticks\":\"\"},\"colorscale\":[[0.0,\"#0d0887\"],[0.1111111111111111,\"#46039f\"],[0.2222222222222222,\"#7201a8\"],[0.3333333333333333,\"#9c179e\"],[0.4444444444444444,\"#bd3786\"],[0.5555555555555556,\"#d8576b\"],[0.6666666666666666,\"#ed7953\"],[0.7777777777777778,\"#fb9f3a\"],[0.8888888888888888,\"#fdca26\"],[1.0,\"#f0f921\"]],\"type\":\"heatmap\"}],\"histogram2dcontour\":[{\"colorbar\":{\"outlinewidth\":0,\"ticks\":\"\"},\"colorscale\":[[0.0,\"#0d0887\"],[0.1111111111111111,\"#46039f\"],[0.2222222222222222,\"#7201a8\"],[0.3333333333333333,\"#9c179e\"],[0.4444444444444444,\"#bd3786\"],[0.5555555555555556,\"#d8576b\"],[0.6666666666666666,\"#ed7953\"],[0.7777777777777778,\"#fb9f3a\"],[0.8888888888888888,\"#fdca26\"],[1.0,\"#f0f921\"]],\"type\":\"histogram2dcontour\"}],\"histogram2d\":[{\"colorbar\":{\"outlinewidth\":0,\"ticks\":\"\"},\"colorscale\":[[0.0,\"#0d0887\"],[0.1111111111111111,\"#46039f\"],[0.2222222222222222,\"#7201a8\"],[0.3333333333333333,\"#9c179e\"],[0.4444444444444444,\"#bd3786\"],[0.5555555555555556,\"#d8576b\"],[0.6666666666666666,\"#ed7953\"],[0.7777777777777778,\"#fb9f3a\"],[0.8888888888888888,\"#fdca26\"],[1.0,\"#f0f921\"]],\"type\":\"histogram2d\"}],\"histogram\":[{\"marker\":{\"pattern\":{\"fillmode\":\"overlay\",\"size\":10,\"solidity\":0.2}},\"type\":\"histogram\"}],\"mesh3d\":[{\"colorbar\":{\"outlinewidth\":0,\"ticks\":\"\"},\"type\":\"mesh3d\"}],\"parcoords\":[{\"line\":{\"colorbar\":{\"outlinewidth\":0,\"ticks\":\"\"}},\"type\":\"parcoords\"}],\"pie\":[{\"automargin\":true,\"type\":\"pie\"}],\"scatter3d\":[{\"line\":{\"colorbar\":{\"outlinewidth\":0,\"ticks\":\"\"}},\"marker\":{\"colorbar\":{\"outlinewidth\":0,\"ticks\":\"\"}},\"type\":\"scatter3d\"}],\"scattercarpet\":[{\"marker\":{\"colorbar\":{\"outlinewidth\":0,\"ticks\":\"\"}},\"type\":\"scattercarpet\"}],\"scattergeo\":[{\"marker\":{\"colorbar\":{\"outlinewidth\":0,\"ticks\":\"\"}},\"type\":\"scattergeo\"}],\"scattergl\":[{\"marker\":{\"line\":{\"color\":\"#283442\"}},\"type\":\"scattergl\"}],\"scattermapbox\":[{\"marker\":{\"colorbar\":{\"outlinewidth\":0,\"ticks\":\"\"}},\"type\":\"scattermapbox\"}],\"scatterpolargl\":[{\"marker\":{\"colorbar\":{\"outlinewidth\":0,\"ticks\":\"\"}},\"type\":\"scatterpolargl\"}],\"scatterpolar\":[{\"marker\":{\"colorbar\":{\"outlinewidth\":0,\"ticks\":\"\"}},\"type\":\"scatterpolar\"}],\"scatter\":[{\"marker\":{\"line\":{\"color\":\"#283442\"}},\"type\":\"scatter\"}],\"scatterternary\":[{\"marker\":{\"colorbar\":{\"outlinewidth\":0,\"ticks\":\"\"}},\"type\":\"scatterternary\"}],\"surface\":[{\"colorbar\":{\"outlinewidth\":0,\"ticks\":\"\"},\"colorscale\":[[0.0,\"#0d0887\"],[0.1111111111111111,\"#46039f\"],[0.2222222222222222,\"#7201a8\"],[0.3333333333333333,\"#9c179e\"],[0.4444444444444444,\"#bd3786\"],[0.5555555555555556,\"#d8576b\"],[0.6666666666666666,\"#ed7953\"],[0.7777777777777778,\"#fb9f3a\"],[0.8888888888888888,\"#fdca26\"],[1.0,\"#f0f921\"]],\"type\":\"surface\"}],\"table\":[{\"cells\":{\"fill\":{\"color\":\"#506784\"},\"line\":{\"color\":\"rgb(17,17,17)\"}},\"header\":{\"fill\":{\"color\":\"#2a3f5f\"},\"line\":{\"color\":\"rgb(17,17,17)\"}},\"type\":\"table\"}]},\"layout\":{\"annotationdefaults\":{\"arrowcolor\":\"#f2f5fa\",\"arrowhead\":0,\"arrowwidth\":1},\"autotypenumbers\":\"strict\",\"coloraxis\":{\"colorbar\":{\"outlinewidth\":0,\"ticks\":\"\"}},\"colorscale\":{\"diverging\":[[0,\"#8e0152\"],[0.1,\"#c51b7d\"],[0.2,\"#de77ae\"],[0.3,\"#f1b6da\"],[0.4,\"#fde0ef\"],[0.5,\"#f7f7f7\"],[0.6,\"#e6f5d0\"],[0.7,\"#b8e186\"],[0.8,\"#7fbc41\"],[0.9,\"#4d9221\"],[1,\"#276419\"]],\"sequential\":[[0.0,\"#0d0887\"],[0.1111111111111111,\"#46039f\"],[0.2222222222222222,\"#7201a8\"],[0.3333333333333333,\"#9c179e\"],[0.4444444444444444,\"#bd3786\"],[0.5555555555555556,\"#d8576b\"],[0.6666666666666666,\"#ed7953\"],[0.7777777777777778,\"#fb9f3a\"],[0.8888888888888888,\"#fdca26\"],[1.0,\"#f0f921\"]],\"sequentialminus\":[[0.0,\"#0d0887\"],[0.1111111111111111,\"#46039f\"],[0.2222222222222222,\"#7201a8\"],[0.3333333333333333,\"#9c179e\"],[0.4444444444444444,\"#bd3786\"],[0.5555555555555556,\"#d8576b\"],[0.6666666666666666,\"#ed7953\"],[0.7777777777777778,\"#fb9f3a\"],[0.8888888888888888,\"#fdca26\"],[1.0,\"#f0f921\"]]},\"colorway\":[\"#636efa\",\"#EF553B\",\"#00cc96\",\"#ab63fa\",\"#FFA15A\",\"#19d3f3\",\"#FF6692\",\"#B6E880\",\"#FF97FF\",\"#FECB52\"],\"font\":{\"color\":\"#f2f5fa\"},\"geo\":{\"bgcolor\":\"rgb(17,17,17)\",\"lakecolor\":\"rgb(17,17,17)\",\"landcolor\":\"rgb(17,17,17)\",\"showlakes\":true,\"showland\":true,\"subunitcolor\":\"#506784\"},\"hoverlabel\":{\"align\":\"left\"},\"hovermode\":\"closest\",\"mapbox\":{\"style\":\"dark\"},\"paper_bgcolor\":\"rgb(17,17,17)\",\"plot_bgcolor\":\"rgb(17,17,17)\",\"polar\":{\"angularaxis\":{\"gridcolor\":\"#506784\",\"linecolor\":\"#506784\",\"ticks\":\"\"},\"bgcolor\":\"rgb(17,17,17)\",\"radialaxis\":{\"gridcolor\":\"#506784\",\"linecolor\":\"#506784\",\"ticks\":\"\"}},\"scene\":{\"xaxis\":{\"backgroundcolor\":\"rgb(17,17,17)\",\"gridcolor\":\"#506784\",\"gridwidth\":2,\"linecolor\":\"#506784\",\"showbackground\":true,\"ticks\":\"\",\"zerolinecolor\":\"#C8D4E3\"},\"yaxis\":{\"backgroundcolor\":\"rgb(17,17,17)\",\"gridcolor\":\"#506784\",\"gridwidth\":2,\"linecolor\":\"#506784\",\"showbackground\":true,\"ticks\":\"\",\"zerolinecolor\":\"#C8D4E3\"},\"zaxis\":{\"backgroundcolor\":\"rgb(17,17,17)\",\"gridcolor\":\"#506784\",\"gridwidth\":2,\"linecolor\":\"#506784\",\"showbackground\":true,\"ticks\":\"\",\"zerolinecolor\":\"#C8D4E3\"}},\"shapedefaults\":{\"line\":{\"color\":\"#f2f5fa\"}},\"sliderdefaults\":{\"bgcolor\":\"#C8D4E3\",\"bordercolor\":\"rgb(17,17,17)\",\"borderwidth\":1,\"tickwidth\":0},\"ternary\":{\"aaxis\":{\"gridcolor\":\"#506784\",\"linecolor\":\"#506784\",\"ticks\":\"\"},\"baxis\":{\"gridcolor\":\"#506784\",\"linecolor\":\"#506784\",\"ticks\":\"\"},\"bgcolor\":\"rgb(17,17,17)\",\"caxis\":{\"gridcolor\":\"#506784\",\"linecolor\":\"#506784\",\"ticks\":\"\"}},\"title\":{\"x\":0.05},\"updatemenudefaults\":{\"bgcolor\":\"#506784\",\"borderwidth\":0},\"xaxis\":{\"automargin\":true,\"gridcolor\":\"#283442\",\"linecolor\":\"#506784\",\"ticks\":\"\",\"title\":{\"standoff\":15},\"zerolinecolor\":\"#283442\",\"zerolinewidth\":2},\"yaxis\":{\"automargin\":true,\"gridcolor\":\"#283442\",\"linecolor\":\"#506784\",\"ticks\":\"\",\"title\":{\"standoff\":15},\"zerolinecolor\":\"#283442\",\"zerolinewidth\":2}}},\"xaxis\":{\"anchor\":\"y\",\"domain\":[0.0,1.0],\"title\":{\"text\":\"Month\"}},\"yaxis\":{\"anchor\":\"x\",\"domain\":[0.0,1.0],\"title\":{\"text\":\"value\"}},\"legend\":{\"title\":{\"text\":\"variable\"},\"tracegroupgap\":0},\"margin\":{\"t\":60}},                        {\"responsive\": true}                    ).then(function(){\n",
              "                            \n",
              "var gd = document.getElementById('0f5cd500-5374-4d66-9666-e02cd6232f74');\n",
              "var x = new MutationObserver(function (mutations, observer) {{\n",
              "        var display = window.getComputedStyle(gd).display;\n",
              "        if (!display || display === 'none') {{\n",
              "            console.log([gd, 'removed!']);\n",
              "            Plotly.purge(gd);\n",
              "            observer.disconnect();\n",
              "        }}\n",
              "}});\n",
              "\n",
              "// Listen for the removal of the full notebook cells\n",
              "var notebookContainer = gd.closest('#notebook-container');\n",
              "if (notebookContainer) {{\n",
              "    x.observe(notebookContainer, {childList: true});\n",
              "}}\n",
              "\n",
              "// Listen for the clearing of the current output cell\n",
              "var outputEl = gd.closest('.output');\n",
              "if (outputEl) {{\n",
              "    x.observe(outputEl, {childList: true});\n",
              "}}\n",
              "\n",
              "                        })                };                            </script>        </div>\n",
              "</body>\n",
              "</html>"
            ]
          },
          "metadata": {}
        }
      ]
    },
    {
      "cell_type": "code",
      "source": [
        "train=serie.iloc[:-n_test,:]"
      ],
      "metadata": {
        "id": "qcLaiV7ZpOCk"
      },
      "execution_count": 252,
      "outputs": []
    },
    {
      "cell_type": "code",
      "source": [
        "train['Predict']=None"
      ],
      "metadata": {
        "colab": {
          "base_uri": "https://localhost:8080/"
        },
        "id": "LHf7_z7opcDA",
        "outputId": "c500d4db-ae60-498c-d4eb-57d736b464de"
      },
      "execution_count": 253,
      "outputs": [
        {
          "output_type": "stream",
          "name": "stderr",
          "text": [
            "/usr/local/lib/python3.7/dist-packages/ipykernel_launcher.py:1: SettingWithCopyWarning:\n",
            "\n",
            "\n",
            "A value is trying to be set on a copy of a slice from a DataFrame.\n",
            "Try using .loc[row_indexer,col_indexer] = value instead\n",
            "\n",
            "See the caveats in the documentation: https://pandas.pydata.org/pandas-docs/stable/user_guide/indexing.html#returning-a-view-versus-a-copy\n",
            "\n"
          ]
        }
      ]
    },
    {
      "cell_type": "code",
      "source": [
        "all_data=pd.concat([train, test])\n",
        "all_data"
      ],
      "metadata": {
        "colab": {
          "base_uri": "https://localhost:8080/",
          "height": 455
        },
        "id": "M8R7ToGlph1Y",
        "outputId": "6e0930c6-ecbe-49bc-8779-2c0837cdb1da"
      },
      "execution_count": 254,
      "outputs": [
        {
          "output_type": "execute_result",
          "data": {
            "text/plain": [
              "         Sales       Predict\n",
              "Month                       \n",
              "1960-01   6550           NaN\n",
              "1960-02   8728           NaN\n",
              "1960-03  12026           NaN\n",
              "1960-04  14395           NaN\n",
              "1960-05  14587           NaN\n",
              "...        ...           ...\n",
              "1968-08  16722  15099.298828\n",
              "1968-09  14385  15474.505859\n",
              "1968-10  21342  17836.445312\n",
              "1968-11  17180  17708.439453\n",
              "1968-12  14577  15818.976562\n",
              "\n",
              "[108 rows x 2 columns]"
            ],
            "text/html": [
              "\n",
              "  <div id=\"df-2ab72801-6e37-4976-a721-bc27f3c41765\">\n",
              "    <div class=\"colab-df-container\">\n",
              "      <div>\n",
              "<style scoped>\n",
              "    .dataframe tbody tr th:only-of-type {\n",
              "        vertical-align: middle;\n",
              "    }\n",
              "\n",
              "    .dataframe tbody tr th {\n",
              "        vertical-align: top;\n",
              "    }\n",
              "\n",
              "    .dataframe thead th {\n",
              "        text-align: right;\n",
              "    }\n",
              "</style>\n",
              "<table border=\"1\" class=\"dataframe\">\n",
              "  <thead>\n",
              "    <tr style=\"text-align: right;\">\n",
              "      <th></th>\n",
              "      <th>Sales</th>\n",
              "      <th>Predict</th>\n",
              "    </tr>\n",
              "    <tr>\n",
              "      <th>Month</th>\n",
              "      <th></th>\n",
              "      <th></th>\n",
              "    </tr>\n",
              "  </thead>\n",
              "  <tbody>\n",
              "    <tr>\n",
              "      <th>1960-01</th>\n",
              "      <td>6550</td>\n",
              "      <td>NaN</td>\n",
              "    </tr>\n",
              "    <tr>\n",
              "      <th>1960-02</th>\n",
              "      <td>8728</td>\n",
              "      <td>NaN</td>\n",
              "    </tr>\n",
              "    <tr>\n",
              "      <th>1960-03</th>\n",
              "      <td>12026</td>\n",
              "      <td>NaN</td>\n",
              "    </tr>\n",
              "    <tr>\n",
              "      <th>1960-04</th>\n",
              "      <td>14395</td>\n",
              "      <td>NaN</td>\n",
              "    </tr>\n",
              "    <tr>\n",
              "      <th>1960-05</th>\n",
              "      <td>14587</td>\n",
              "      <td>NaN</td>\n",
              "    </tr>\n",
              "    <tr>\n",
              "      <th>...</th>\n",
              "      <td>...</td>\n",
              "      <td>...</td>\n",
              "    </tr>\n",
              "    <tr>\n",
              "      <th>1968-08</th>\n",
              "      <td>16722</td>\n",
              "      <td>15099.298828</td>\n",
              "    </tr>\n",
              "    <tr>\n",
              "      <th>1968-09</th>\n",
              "      <td>14385</td>\n",
              "      <td>15474.505859</td>\n",
              "    </tr>\n",
              "    <tr>\n",
              "      <th>1968-10</th>\n",
              "      <td>21342</td>\n",
              "      <td>17836.445312</td>\n",
              "    </tr>\n",
              "    <tr>\n",
              "      <th>1968-11</th>\n",
              "      <td>17180</td>\n",
              "      <td>17708.439453</td>\n",
              "    </tr>\n",
              "    <tr>\n",
              "      <th>1968-12</th>\n",
              "      <td>14577</td>\n",
              "      <td>15818.976562</td>\n",
              "    </tr>\n",
              "  </tbody>\n",
              "</table>\n",
              "<p>108 rows × 2 columns</p>\n",
              "</div>\n",
              "      <button class=\"colab-df-convert\" onclick=\"convertToInteractive('df-2ab72801-6e37-4976-a721-bc27f3c41765')\"\n",
              "              title=\"Convert this dataframe to an interactive table.\"\n",
              "              style=\"display:none;\">\n",
              "        \n",
              "  <svg xmlns=\"http://www.w3.org/2000/svg\" height=\"24px\"viewBox=\"0 0 24 24\"\n",
              "       width=\"24px\">\n",
              "    <path d=\"M0 0h24v24H0V0z\" fill=\"none\"/>\n",
              "    <path d=\"M18.56 5.44l.94 2.06.94-2.06 2.06-.94-2.06-.94-.94-2.06-.94 2.06-2.06.94zm-11 1L8.5 8.5l.94-2.06 2.06-.94-2.06-.94L8.5 2.5l-.94 2.06-2.06.94zm10 10l.94 2.06.94-2.06 2.06-.94-2.06-.94-.94-2.06-.94 2.06-2.06.94z\"/><path d=\"M17.41 7.96l-1.37-1.37c-.4-.4-.92-.59-1.43-.59-.52 0-1.04.2-1.43.59L10.3 9.45l-7.72 7.72c-.78.78-.78 2.05 0 2.83L4 21.41c.39.39.9.59 1.41.59.51 0 1.02-.2 1.41-.59l7.78-7.78 2.81-2.81c.8-.78.8-2.07 0-2.86zM5.41 20L4 18.59l7.72-7.72 1.47 1.35L5.41 20z\"/>\n",
              "  </svg>\n",
              "      </button>\n",
              "      \n",
              "  <style>\n",
              "    .colab-df-container {\n",
              "      display:flex;\n",
              "      flex-wrap:wrap;\n",
              "      gap: 12px;\n",
              "    }\n",
              "\n",
              "    .colab-df-convert {\n",
              "      background-color: #E8F0FE;\n",
              "      border: none;\n",
              "      border-radius: 50%;\n",
              "      cursor: pointer;\n",
              "      display: none;\n",
              "      fill: #1967D2;\n",
              "      height: 32px;\n",
              "      padding: 0 0 0 0;\n",
              "      width: 32px;\n",
              "    }\n",
              "\n",
              "    .colab-df-convert:hover {\n",
              "      background-color: #E2EBFA;\n",
              "      box-shadow: 0px 1px 2px rgba(60, 64, 67, 0.3), 0px 1px 3px 1px rgba(60, 64, 67, 0.15);\n",
              "      fill: #174EA6;\n",
              "    }\n",
              "\n",
              "    [theme=dark] .colab-df-convert {\n",
              "      background-color: #3B4455;\n",
              "      fill: #D2E3FC;\n",
              "    }\n",
              "\n",
              "    [theme=dark] .colab-df-convert:hover {\n",
              "      background-color: #434B5C;\n",
              "      box-shadow: 0px 1px 3px 1px rgba(0, 0, 0, 0.15);\n",
              "      filter: drop-shadow(0px 1px 2px rgba(0, 0, 0, 0.3));\n",
              "      fill: #FFFFFF;\n",
              "    }\n",
              "  </style>\n",
              "\n",
              "      <script>\n",
              "        const buttonEl =\n",
              "          document.querySelector('#df-2ab72801-6e37-4976-a721-bc27f3c41765 button.colab-df-convert');\n",
              "        buttonEl.style.display =\n",
              "          google.colab.kernel.accessAllowed ? 'block' : 'none';\n",
              "\n",
              "        async function convertToInteractive(key) {\n",
              "          const element = document.querySelector('#df-2ab72801-6e37-4976-a721-bc27f3c41765');\n",
              "          const dataTable =\n",
              "            await google.colab.kernel.invokeFunction('convertToInteractive',\n",
              "                                                     [key], {});\n",
              "          if (!dataTable) return;\n",
              "\n",
              "          const docLinkHtml = 'Like what you see? Visit the ' +\n",
              "            '<a target=\"_blank\" href=https://colab.research.google.com/notebooks/data_table.ipynb>data table notebook</a>'\n",
              "            + ' to learn more about interactive tables.';\n",
              "          element.innerHTML = '';\n",
              "          dataTable['output_type'] = 'display_data';\n",
              "          await google.colab.output.renderOutput(dataTable, element);\n",
              "          const docLink = document.createElement('div');\n",
              "          docLink.innerHTML = docLinkHtml;\n",
              "          element.appendChild(docLink);\n",
              "        }\n",
              "      </script>\n",
              "    </div>\n",
              "  </div>\n",
              "  "
            ]
          },
          "metadata": {},
          "execution_count": 254
        }
      ]
    },
    {
      "cell_type": "code",
      "source": [
        "fig = px.line(all_data, x=all_data.index, y=[\"Sales\", \"Predict\"], template = 'plotly_dark')\n",
        "fig.show()"
      ],
      "metadata": {
        "colab": {
          "base_uri": "https://localhost:8080/",
          "height": 542
        },
        "id": "5vlRyNZFqCD_",
        "outputId": "30ee10c4-32bf-4709-ad79-ab5a22426589"
      },
      "execution_count": 255,
      "outputs": [
        {
          "output_type": "display_data",
          "data": {
            "text/html": [
              "<html>\n",
              "<head><meta charset=\"utf-8\" /></head>\n",
              "<body>\n",
              "    <div>            <script src=\"https://cdnjs.cloudflare.com/ajax/libs/mathjax/2.7.5/MathJax.js?config=TeX-AMS-MML_SVG\"></script><script type=\"text/javascript\">if (window.MathJax) {MathJax.Hub.Config({SVG: {font: \"STIX-Web\"}});}</script>                <script type=\"text/javascript\">window.PlotlyConfig = {MathJaxConfig: 'local'};</script>\n",
              "        <script src=\"https://cdn.plot.ly/plotly-2.8.3.min.js\"></script>                <div id=\"199d1c13-2696-417f-a75c-d80db7907d82\" class=\"plotly-graph-div\" style=\"height:525px; width:100%;\"></div>            <script type=\"text/javascript\">                                    window.PLOTLYENV=window.PLOTLYENV || {};                                    if (document.getElementById(\"199d1c13-2696-417f-a75c-d80db7907d82\")) {                    Plotly.newPlot(                        \"199d1c13-2696-417f-a75c-d80db7907d82\",                        [{\"hovertemplate\":\"variable=Sales<br>Month=%{x}<br>value=%{y}<extra></extra>\",\"legendgroup\":\"Sales\",\"line\":{\"color\":\"#636efa\",\"dash\":\"solid\"},\"marker\":{\"symbol\":\"circle\"},\"mode\":\"lines\",\"name\":\"Sales\",\"orientation\":\"v\",\"showlegend\":true,\"x\":[\"1960-01\",\"1960-02\",\"1960-03\",\"1960-04\",\"1960-05\",\"1960-06\",\"1960-07\",\"1960-08\",\"1960-09\",\"1960-10\",\"1960-11\",\"1960-12\",\"1961-01\",\"1961-02\",\"1961-03\",\"1961-04\",\"1961-05\",\"1961-06\",\"1961-07\",\"1961-08\",\"1961-09\",\"1961-10\",\"1961-11\",\"1961-12\",\"1962-01\",\"1962-02\",\"1962-03\",\"1962-04\",\"1962-05\",\"1962-06\",\"1962-07\",\"1962-08\",\"1962-09\",\"1962-10\",\"1962-11\",\"1962-12\",\"1963-01\",\"1963-02\",\"1963-03\",\"1963-04\",\"1963-05\",\"1963-06\",\"1963-07\",\"1963-08\",\"1963-09\",\"1963-10\",\"1963-11\",\"1963-12\",\"1964-01\",\"1964-02\",\"1964-03\",\"1964-04\",\"1964-05\",\"1964-06\",\"1964-07\",\"1964-08\",\"1964-09\",\"1964-10\",\"1964-11\",\"1964-12\",\"1965-01\",\"1965-02\",\"1965-03\",\"1965-04\",\"1965-05\",\"1965-06\",\"1965-07\",\"1965-08\",\"1965-09\",\"1965-10\",\"1965-11\",\"1965-12\",\"1966-01\",\"1966-02\",\"1966-03\",\"1966-04\",\"1966-05\",\"1966-06\",\"1966-07\",\"1966-08\",\"1966-09\",\"1966-10\",\"1966-11\",\"1966-12\",\"1967-01\",\"1967-02\",\"1967-03\",\"1967-04\",\"1967-05\",\"1967-06\",\"1967-07\",\"1967-08\",\"1967-09\",\"1967-10\",\"1967-11\",\"1967-12\",\"1968-01\",\"1968-02\",\"1968-03\",\"1968-04\",\"1968-05\",\"1968-06\",\"1968-07\",\"1968-08\",\"1968-09\",\"1968-10\",\"1968-11\",\"1968-12\"],\"xaxis\":\"x\",\"y\":[6550.0,8728.0,12026.0,14395.0,14587.0,13791.0,9498.0,8251.0,7049.0,9545.0,9364.0,8456.0,7237.0,9374.0,11837.0,13784.0,15926.0,13821.0,11143.0,7975.0,7610.0,10015.0,12759.0,8816.0,10677.0,10947.0,15200.0,17010.0,20900.0,16205.0,12143.0,8997.0,5568.0,11474.0,12256.0,10583.0,10862.0,10965.0,14405.0,20379.0,20128.0,17816.0,12268.0,8642.0,7962.0,13932.0,15936.0,12628.0,12267.0,12470.0,18944.0,21259.0,22015.0,18581.0,15175.0,10306.0,10792.0,14752.0,13754.0,11738.0,12181.0,12965.0,19990.0,23125.0,23541.0,21247.0,15189.0,14767.0,10895.0,17130.0,17697.0,16611.0,12674.0,12760.0,20249.0,22135.0,20677.0,19933.0,15388.0,15113.0,13401.0,16135.0,17562.0,14720.0,12225.0,11608.0,20985.0,19692.0,24081.0,22114.0,14220.0,13434.0,13598.0,17187.0,16119.0,13713.0,13210.0,14251.0,20139.0,21725.0,26099.0,21084.0,18024.0,16722.0,14385.0,21342.0,17180.0,14577.0],\"yaxis\":\"y\",\"type\":\"scatter\"},{\"hovertemplate\":\"variable=Predict<br>Month=%{x}<br>value=%{y}<extra></extra>\",\"legendgroup\":\"Predict\",\"line\":{\"color\":\"#EF553B\",\"dash\":\"solid\"},\"marker\":{\"symbol\":\"circle\"},\"mode\":\"lines\",\"name\":\"Predict\",\"orientation\":\"v\",\"showlegend\":true,\"x\":[\"1960-01\",\"1960-02\",\"1960-03\",\"1960-04\",\"1960-05\",\"1960-06\",\"1960-07\",\"1960-08\",\"1960-09\",\"1960-10\",\"1960-11\",\"1960-12\",\"1961-01\",\"1961-02\",\"1961-03\",\"1961-04\",\"1961-05\",\"1961-06\",\"1961-07\",\"1961-08\",\"1961-09\",\"1961-10\",\"1961-11\",\"1961-12\",\"1962-01\",\"1962-02\",\"1962-03\",\"1962-04\",\"1962-05\",\"1962-06\",\"1962-07\",\"1962-08\",\"1962-09\",\"1962-10\",\"1962-11\",\"1962-12\",\"1963-01\",\"1963-02\",\"1963-03\",\"1963-04\",\"1963-05\",\"1963-06\",\"1963-07\",\"1963-08\",\"1963-09\",\"1963-10\",\"1963-11\",\"1963-12\",\"1964-01\",\"1964-02\",\"1964-03\",\"1964-04\",\"1964-05\",\"1964-06\",\"1964-07\",\"1964-08\",\"1964-09\",\"1964-10\",\"1964-11\",\"1964-12\",\"1965-01\",\"1965-02\",\"1965-03\",\"1965-04\",\"1965-05\",\"1965-06\",\"1965-07\",\"1965-08\",\"1965-09\",\"1965-10\",\"1965-11\",\"1965-12\",\"1966-01\",\"1966-02\",\"1966-03\",\"1966-04\",\"1966-05\",\"1966-06\",\"1966-07\",\"1966-08\",\"1966-09\",\"1966-10\",\"1966-11\",\"1966-12\",\"1967-01\",\"1967-02\",\"1967-03\",\"1967-04\",\"1967-05\",\"1967-06\",\"1967-07\",\"1967-08\",\"1967-09\",\"1967-10\",\"1967-11\",\"1967-12\",\"1968-01\",\"1968-02\",\"1968-03\",\"1968-04\",\"1968-05\",\"1968-06\",\"1968-07\",\"1968-08\",\"1968-09\",\"1968-10\",\"1968-11\",\"1968-12\"],\"xaxis\":\"x\",\"y\":[null,null,null,null,null,null,null,null,null,null,null,null,null,null,null,null,null,null,null,null,null,null,null,null,null,null,null,null,null,null,null,null,null,null,null,null,null,null,null,null,null,null,null,null,null,null,null,null,null,null,null,null,null,null,null,null,null,null,null,null,null,null,null,null,null,null,null,null,null,null,null,null,null,null,null,null,null,null,null,null,null,null,null,null,null,null,null,null,null,null,null,null,null,null,null,null,12358.0009765625,13732.8291015625,19849.310546875,22940.9375,24504.1328125,21616.87109375,16220.4912109375,15099.298828125,15474.505859375,17836.4453125,17708.439453125,15818.9765625],\"yaxis\":\"y\",\"type\":\"scatter\"}],                        {\"template\":{\"data\":{\"barpolar\":[{\"marker\":{\"line\":{\"color\":\"rgb(17,17,17)\",\"width\":0.5},\"pattern\":{\"fillmode\":\"overlay\",\"size\":10,\"solidity\":0.2}},\"type\":\"barpolar\"}],\"bar\":[{\"error_x\":{\"color\":\"#f2f5fa\"},\"error_y\":{\"color\":\"#f2f5fa\"},\"marker\":{\"line\":{\"color\":\"rgb(17,17,17)\",\"width\":0.5},\"pattern\":{\"fillmode\":\"overlay\",\"size\":10,\"solidity\":0.2}},\"type\":\"bar\"}],\"carpet\":[{\"aaxis\":{\"endlinecolor\":\"#A2B1C6\",\"gridcolor\":\"#506784\",\"linecolor\":\"#506784\",\"minorgridcolor\":\"#506784\",\"startlinecolor\":\"#A2B1C6\"},\"baxis\":{\"endlinecolor\":\"#A2B1C6\",\"gridcolor\":\"#506784\",\"linecolor\":\"#506784\",\"minorgridcolor\":\"#506784\",\"startlinecolor\":\"#A2B1C6\"},\"type\":\"carpet\"}],\"choropleth\":[{\"colorbar\":{\"outlinewidth\":0,\"ticks\":\"\"},\"type\":\"choropleth\"}],\"contourcarpet\":[{\"colorbar\":{\"outlinewidth\":0,\"ticks\":\"\"},\"type\":\"contourcarpet\"}],\"contour\":[{\"colorbar\":{\"outlinewidth\":0,\"ticks\":\"\"},\"colorscale\":[[0.0,\"#0d0887\"],[0.1111111111111111,\"#46039f\"],[0.2222222222222222,\"#7201a8\"],[0.3333333333333333,\"#9c179e\"],[0.4444444444444444,\"#bd3786\"],[0.5555555555555556,\"#d8576b\"],[0.6666666666666666,\"#ed7953\"],[0.7777777777777778,\"#fb9f3a\"],[0.8888888888888888,\"#fdca26\"],[1.0,\"#f0f921\"]],\"type\":\"contour\"}],\"heatmapgl\":[{\"colorbar\":{\"outlinewidth\":0,\"ticks\":\"\"},\"colorscale\":[[0.0,\"#0d0887\"],[0.1111111111111111,\"#46039f\"],[0.2222222222222222,\"#7201a8\"],[0.3333333333333333,\"#9c179e\"],[0.4444444444444444,\"#bd3786\"],[0.5555555555555556,\"#d8576b\"],[0.6666666666666666,\"#ed7953\"],[0.7777777777777778,\"#fb9f3a\"],[0.8888888888888888,\"#fdca26\"],[1.0,\"#f0f921\"]],\"type\":\"heatmapgl\"}],\"heatmap\":[{\"colorbar\":{\"outlinewidth\":0,\"ticks\":\"\"},\"colorscale\":[[0.0,\"#0d0887\"],[0.1111111111111111,\"#46039f\"],[0.2222222222222222,\"#7201a8\"],[0.3333333333333333,\"#9c179e\"],[0.4444444444444444,\"#bd3786\"],[0.5555555555555556,\"#d8576b\"],[0.6666666666666666,\"#ed7953\"],[0.7777777777777778,\"#fb9f3a\"],[0.8888888888888888,\"#fdca26\"],[1.0,\"#f0f921\"]],\"type\":\"heatmap\"}],\"histogram2dcontour\":[{\"colorbar\":{\"outlinewidth\":0,\"ticks\":\"\"},\"colorscale\":[[0.0,\"#0d0887\"],[0.1111111111111111,\"#46039f\"],[0.2222222222222222,\"#7201a8\"],[0.3333333333333333,\"#9c179e\"],[0.4444444444444444,\"#bd3786\"],[0.5555555555555556,\"#d8576b\"],[0.6666666666666666,\"#ed7953\"],[0.7777777777777778,\"#fb9f3a\"],[0.8888888888888888,\"#fdca26\"],[1.0,\"#f0f921\"]],\"type\":\"histogram2dcontour\"}],\"histogram2d\":[{\"colorbar\":{\"outlinewidth\":0,\"ticks\":\"\"},\"colorscale\":[[0.0,\"#0d0887\"],[0.1111111111111111,\"#46039f\"],[0.2222222222222222,\"#7201a8\"],[0.3333333333333333,\"#9c179e\"],[0.4444444444444444,\"#bd3786\"],[0.5555555555555556,\"#d8576b\"],[0.6666666666666666,\"#ed7953\"],[0.7777777777777778,\"#fb9f3a\"],[0.8888888888888888,\"#fdca26\"],[1.0,\"#f0f921\"]],\"type\":\"histogram2d\"}],\"histogram\":[{\"marker\":{\"pattern\":{\"fillmode\":\"overlay\",\"size\":10,\"solidity\":0.2}},\"type\":\"histogram\"}],\"mesh3d\":[{\"colorbar\":{\"outlinewidth\":0,\"ticks\":\"\"},\"type\":\"mesh3d\"}],\"parcoords\":[{\"line\":{\"colorbar\":{\"outlinewidth\":0,\"ticks\":\"\"}},\"type\":\"parcoords\"}],\"pie\":[{\"automargin\":true,\"type\":\"pie\"}],\"scatter3d\":[{\"line\":{\"colorbar\":{\"outlinewidth\":0,\"ticks\":\"\"}},\"marker\":{\"colorbar\":{\"outlinewidth\":0,\"ticks\":\"\"}},\"type\":\"scatter3d\"}],\"scattercarpet\":[{\"marker\":{\"colorbar\":{\"outlinewidth\":0,\"ticks\":\"\"}},\"type\":\"scattercarpet\"}],\"scattergeo\":[{\"marker\":{\"colorbar\":{\"outlinewidth\":0,\"ticks\":\"\"}},\"type\":\"scattergeo\"}],\"scattergl\":[{\"marker\":{\"line\":{\"color\":\"#283442\"}},\"type\":\"scattergl\"}],\"scattermapbox\":[{\"marker\":{\"colorbar\":{\"outlinewidth\":0,\"ticks\":\"\"}},\"type\":\"scattermapbox\"}],\"scatterpolargl\":[{\"marker\":{\"colorbar\":{\"outlinewidth\":0,\"ticks\":\"\"}},\"type\":\"scatterpolargl\"}],\"scatterpolar\":[{\"marker\":{\"colorbar\":{\"outlinewidth\":0,\"ticks\":\"\"}},\"type\":\"scatterpolar\"}],\"scatter\":[{\"marker\":{\"line\":{\"color\":\"#283442\"}},\"type\":\"scatter\"}],\"scatterternary\":[{\"marker\":{\"colorbar\":{\"outlinewidth\":0,\"ticks\":\"\"}},\"type\":\"scatterternary\"}],\"surface\":[{\"colorbar\":{\"outlinewidth\":0,\"ticks\":\"\"},\"colorscale\":[[0.0,\"#0d0887\"],[0.1111111111111111,\"#46039f\"],[0.2222222222222222,\"#7201a8\"],[0.3333333333333333,\"#9c179e\"],[0.4444444444444444,\"#bd3786\"],[0.5555555555555556,\"#d8576b\"],[0.6666666666666666,\"#ed7953\"],[0.7777777777777778,\"#fb9f3a\"],[0.8888888888888888,\"#fdca26\"],[1.0,\"#f0f921\"]],\"type\":\"surface\"}],\"table\":[{\"cells\":{\"fill\":{\"color\":\"#506784\"},\"line\":{\"color\":\"rgb(17,17,17)\"}},\"header\":{\"fill\":{\"color\":\"#2a3f5f\"},\"line\":{\"color\":\"rgb(17,17,17)\"}},\"type\":\"table\"}]},\"layout\":{\"annotationdefaults\":{\"arrowcolor\":\"#f2f5fa\",\"arrowhead\":0,\"arrowwidth\":1},\"autotypenumbers\":\"strict\",\"coloraxis\":{\"colorbar\":{\"outlinewidth\":0,\"ticks\":\"\"}},\"colorscale\":{\"diverging\":[[0,\"#8e0152\"],[0.1,\"#c51b7d\"],[0.2,\"#de77ae\"],[0.3,\"#f1b6da\"],[0.4,\"#fde0ef\"],[0.5,\"#f7f7f7\"],[0.6,\"#e6f5d0\"],[0.7,\"#b8e186\"],[0.8,\"#7fbc41\"],[0.9,\"#4d9221\"],[1,\"#276419\"]],\"sequential\":[[0.0,\"#0d0887\"],[0.1111111111111111,\"#46039f\"],[0.2222222222222222,\"#7201a8\"],[0.3333333333333333,\"#9c179e\"],[0.4444444444444444,\"#bd3786\"],[0.5555555555555556,\"#d8576b\"],[0.6666666666666666,\"#ed7953\"],[0.7777777777777778,\"#fb9f3a\"],[0.8888888888888888,\"#fdca26\"],[1.0,\"#f0f921\"]],\"sequentialminus\":[[0.0,\"#0d0887\"],[0.1111111111111111,\"#46039f\"],[0.2222222222222222,\"#7201a8\"],[0.3333333333333333,\"#9c179e\"],[0.4444444444444444,\"#bd3786\"],[0.5555555555555556,\"#d8576b\"],[0.6666666666666666,\"#ed7953\"],[0.7777777777777778,\"#fb9f3a\"],[0.8888888888888888,\"#fdca26\"],[1.0,\"#f0f921\"]]},\"colorway\":[\"#636efa\",\"#EF553B\",\"#00cc96\",\"#ab63fa\",\"#FFA15A\",\"#19d3f3\",\"#FF6692\",\"#B6E880\",\"#FF97FF\",\"#FECB52\"],\"font\":{\"color\":\"#f2f5fa\"},\"geo\":{\"bgcolor\":\"rgb(17,17,17)\",\"lakecolor\":\"rgb(17,17,17)\",\"landcolor\":\"rgb(17,17,17)\",\"showlakes\":true,\"showland\":true,\"subunitcolor\":\"#506784\"},\"hoverlabel\":{\"align\":\"left\"},\"hovermode\":\"closest\",\"mapbox\":{\"style\":\"dark\"},\"paper_bgcolor\":\"rgb(17,17,17)\",\"plot_bgcolor\":\"rgb(17,17,17)\",\"polar\":{\"angularaxis\":{\"gridcolor\":\"#506784\",\"linecolor\":\"#506784\",\"ticks\":\"\"},\"bgcolor\":\"rgb(17,17,17)\",\"radialaxis\":{\"gridcolor\":\"#506784\",\"linecolor\":\"#506784\",\"ticks\":\"\"}},\"scene\":{\"xaxis\":{\"backgroundcolor\":\"rgb(17,17,17)\",\"gridcolor\":\"#506784\",\"gridwidth\":2,\"linecolor\":\"#506784\",\"showbackground\":true,\"ticks\":\"\",\"zerolinecolor\":\"#C8D4E3\"},\"yaxis\":{\"backgroundcolor\":\"rgb(17,17,17)\",\"gridcolor\":\"#506784\",\"gridwidth\":2,\"linecolor\":\"#506784\",\"showbackground\":true,\"ticks\":\"\",\"zerolinecolor\":\"#C8D4E3\"},\"zaxis\":{\"backgroundcolor\":\"rgb(17,17,17)\",\"gridcolor\":\"#506784\",\"gridwidth\":2,\"linecolor\":\"#506784\",\"showbackground\":true,\"ticks\":\"\",\"zerolinecolor\":\"#C8D4E3\"}},\"shapedefaults\":{\"line\":{\"color\":\"#f2f5fa\"}},\"sliderdefaults\":{\"bgcolor\":\"#C8D4E3\",\"bordercolor\":\"rgb(17,17,17)\",\"borderwidth\":1,\"tickwidth\":0},\"ternary\":{\"aaxis\":{\"gridcolor\":\"#506784\",\"linecolor\":\"#506784\",\"ticks\":\"\"},\"baxis\":{\"gridcolor\":\"#506784\",\"linecolor\":\"#506784\",\"ticks\":\"\"},\"bgcolor\":\"rgb(17,17,17)\",\"caxis\":{\"gridcolor\":\"#506784\",\"linecolor\":\"#506784\",\"ticks\":\"\"}},\"title\":{\"x\":0.05},\"updatemenudefaults\":{\"bgcolor\":\"#506784\",\"borderwidth\":0},\"xaxis\":{\"automargin\":true,\"gridcolor\":\"#283442\",\"linecolor\":\"#506784\",\"ticks\":\"\",\"title\":{\"standoff\":15},\"zerolinecolor\":\"#283442\",\"zerolinewidth\":2},\"yaxis\":{\"automargin\":true,\"gridcolor\":\"#283442\",\"linecolor\":\"#506784\",\"ticks\":\"\",\"title\":{\"standoff\":15},\"zerolinecolor\":\"#283442\",\"zerolinewidth\":2}}},\"xaxis\":{\"anchor\":\"y\",\"domain\":[0.0,1.0],\"title\":{\"text\":\"Month\"}},\"yaxis\":{\"anchor\":\"x\",\"domain\":[0.0,1.0],\"title\":{\"text\":\"value\"}},\"legend\":{\"title\":{\"text\":\"variable\"},\"tracegroupgap\":0},\"margin\":{\"t\":60}},                        {\"responsive\": true}                    ).then(function(){\n",
              "                            \n",
              "var gd = document.getElementById('199d1c13-2696-417f-a75c-d80db7907d82');\n",
              "var x = new MutationObserver(function (mutations, observer) {{\n",
              "        var display = window.getComputedStyle(gd).display;\n",
              "        if (!display || display === 'none') {{\n",
              "            console.log([gd, 'removed!']);\n",
              "            Plotly.purge(gd);\n",
              "            observer.disconnect();\n",
              "        }}\n",
              "}});\n",
              "\n",
              "// Listen for the removal of the full notebook cells\n",
              "var notebookContainer = gd.closest('#notebook-container');\n",
              "if (notebookContainer) {{\n",
              "    x.observe(notebookContainer, {childList: true});\n",
              "}}\n",
              "\n",
              "// Listen for the clearing of the current output cell\n",
              "var outputEl = gd.closest('.output');\n",
              "if (outputEl) {{\n",
              "    x.observe(outputEl, {childList: true});\n",
              "}}\n",
              "\n",
              "                        })                };                            </script>        </div>\n",
              "</body>\n",
              "</html>"
            ]
          },
          "metadata": {}
        }
      ]
    },
    {
      "cell_type": "markdown",
      "source": [
        "## Estimar métricas"
      ],
      "metadata": {
        "id": "TCzaMd2OLA3O"
      }
    },
    {
      "cell_type": "code",
      "metadata": {
        "colab": {
          "base_uri": "https://localhost:8080/"
        },
        "id": "i_uaS0sdnOjM",
        "outputId": "b3a40cc4-63b1-4ee8-a5f8-ff92b9017539"
      },
      "source": [
        "# estimar el error de predicción\n",
        "rmse = sqrt(mean_squared_error(y_test, y_predict))\n",
        "print('RMSE: %.2f' % rmse)\n",
        "r2 = r2_score(y_test, y_predict)\n",
        "mae=mean_absolute_error(y_test, y_predict)\n",
        "print('MAE: %.2f' % mae)\n",
        "print('R2: %.2f' % r2)\n"
      ],
      "execution_count": 256,
      "outputs": [
        {
          "output_type": "stream",
          "name": "stdout",
          "text": [
            "RMSE: 1487.95\n",
            "MAE: 1232.94\n",
            "R2: 0.84\n"
          ]
        }
      ]
    }
  ]
}